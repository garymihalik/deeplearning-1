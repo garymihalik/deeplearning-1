{
 "cells": [
  {
   "cell_type": "markdown",
   "metadata": {},
   "source": [
    "## Start"
   ]
  },
  {
   "cell_type": "code",
   "execution_count": 1,
   "metadata": {
    "collapsed": true
   },
   "outputs": [],
   "source": [
    "%reload_ext autoreload\n",
    "%autoreload 2\n",
    "%matplotlib inline"
   ]
  },
  {
   "cell_type": "code",
   "execution_count": 2,
   "metadata": {},
   "outputs": [
    {
     "name": "stderr",
     "output_type": "stream",
     "text": [
      "Using TensorFlow backend.\n"
     ]
    }
   ],
   "source": [
    "from imports import *\n",
    "from keras.applications import xception"
   ]
  },
  {
   "cell_type": "code",
   "execution_count": 3,
   "metadata": {
    "collapsed": true
   },
   "outputs": [],
   "source": [
    "bs=64; sz=149; lr=2e-3\n",
    "path = \"/data/jhoward/fast/dogscats/\""
   ]
  },
  {
   "cell_type": "code",
   "execution_count": 4,
   "metadata": {
    "collapsed": true
   },
   "outputs": [],
   "source": [
    "gen = image.ImageDataGenerator(preprocessing_function=xception.preprocess_input)"
   ]
  },
  {
   "cell_type": "markdown",
   "metadata": {},
   "source": [
    "## 1. Fine-tune last layer of full network"
   ]
  },
  {
   "cell_type": "code",
   "execution_count": 25,
   "metadata": {},
   "outputs": [],
   "source": [
    "mn=Xception(include_top=False, input_shape=(sz,sz,3), pooling='avg')\n",
    "for l in mn.layers[:-1]: l.trainable=False\n",
    "for l in mn.layers: \n",
    "    if isinstance(l, BatchNormalization):\n",
    "        l._updates=[]\n",
    "        l._per_input_updates={}"
   ]
  },
  {
   "cell_type": "code",
   "execution_count": 17,
   "metadata": {
    "collapsed": true
   },
   "outputs": [],
   "source": [
    "outp = Dense(2, activation='softmax')(mn.output)\n",
    "m = Model(mn.input, outp)\n",
    "K.set_learning_phase(0)\n",
    "m.compile(SGD(lr, momentum=0.9), 'categorical_crossentropy', metrics=['accuracy'])"
   ]
  },
  {
   "cell_type": "code",
   "execution_count": 19,
   "metadata": {
    "scrolled": true
   },
   "outputs": [
    {
     "name": "stdout",
     "output_type": "stream",
     "text": [
      "Found 23000 images belonging to 2 classes.\n",
      "Found 2000 images belonging to 2 classes.\n"
     ]
    }
   ],
   "source": [
    "trn_batches = gen.flow_from_directory(f'{path}train', (sz,sz), batch_size=bs)\n",
    "val_batches = gen.flow_from_directory(f'{path}valid', (sz,sz), batch_size=bs, shuffle=False)\n",
    "nb_trn = math.ceil(trn_batches.n/bs)\n",
    "nb_val = math.ceil(val_batches.n/bs)"
   ]
  },
  {
   "cell_type": "code",
   "execution_count": 20,
   "metadata": {
    "scrolled": false
   },
   "outputs": [
    {
     "name": "stdout",
     "output_type": "stream",
     "text": [
      "Epoch 1/2\n",
      "360/360 [==============================] - 58s - loss: 0.1078 - acc: 0.9550 - val_loss: 0.0811 - val_acc: 0.9635\n",
      "Epoch 2/2\n",
      "360/360 [==============================] - 56s - loss: 0.0759 - acc: 0.9704 - val_loss: 0.0752 - val_acc: 0.9675\n"
     ]
    },
    {
     "data": {
      "text/plain": [
       "<keras.callbacks.History at 0x7f79100180f0>"
      ]
     },
     "execution_count": 20,
     "metadata": {},
     "output_type": "execute_result"
    }
   ],
   "source": [
    "m.fit_generator(trn_batches, nb_trn, workers=1, epochs=2,\n",
    "                 validation_data=val_batches, validation_steps=nb_val)"
   ]
  },
  {
   "cell_type": "code",
   "execution_count": 39,
   "metadata": {
    "collapsed": true
   },
   "outputs": [],
   "source": [
    "for l in m.layers: l.trainable=True\n",
    "for l in m.layers[:50]: l.trainable=False"
   ]
  },
  {
   "cell_type": "code",
   "execution_count": 40,
   "metadata": {
    "collapsed": true
   },
   "outputs": [],
   "source": [
    "m._collected_trainable_weights = m.trainable_weights\n",
    "m.train_function = None"
   ]
  },
  {
   "cell_type": "code",
   "execution_count": 41,
   "metadata": {
    "collapsed": true
   },
   "outputs": [],
   "source": [
    "m.compile(SGD(lr/10, momentum=0.9), 'categorical_crossentropy', metrics=['accuracy'])"
   ]
  },
  {
   "cell_type": "code",
   "execution_count": 42,
   "metadata": {
    "scrolled": false
   },
   "outputs": [
    {
     "name": "stdout",
     "output_type": "stream",
     "text": [
      "Epoch 1/2\n",
      "360/360 [==============================] - 100s - loss: 0.0595 - acc: 0.9787 - val_loss: 0.0659 - val_acc: 0.9695\n",
      "Epoch 2/2\n",
      "360/360 [==============================] - 99s - loss: 0.0510 - acc: 0.9819 - val_loss: 0.0625 - val_acc: 0.9720\n"
     ]
    },
    {
     "data": {
      "text/plain": [
       "<keras.callbacks.History at 0x7f781f8da080>"
      ]
     },
     "execution_count": 42,
     "metadata": {},
     "output_type": "execute_result"
    }
   ],
   "source": [
    "m.fit_generator(trn_batches, nb_trn, workers=1, epochs=2,\n",
    "                 validation_data=val_batches, validation_steps=nb_val)"
   ]
  },
  {
   "cell_type": "markdown",
   "metadata": {},
   "source": [
    "## 2. Pre-compute output of penultimate layer and train single layer net"
   ]
  },
  {
   "cell_type": "code",
   "execution_count": 10,
   "metadata": {
    "collapsed": true
   },
   "outputs": [],
   "source": [
    "mn=Xception(include_top=False, input_shape=(sz,sz,3), pooling='avg')"
   ]
  },
  {
   "cell_type": "markdown",
   "metadata": {},
   "source": [
    "Precompute pooling output:"
   ]
  },
  {
   "cell_type": "code",
   "execution_count": 11,
   "metadata": {},
   "outputs": [
    {
     "name": "stdout",
     "output_type": "stream",
     "text": [
      "Found 23000 images belonging to 2 classes.\n",
      "Found 2000 images belonging to 2 classes.\n",
      "31/32 [============================>.] - ETA: 0s"
     ]
    }
   ],
   "source": [
    "fix_batches = gen.flow_from_directory(f'{path}train', (sz,sz), batch_size=bs, shuffle=False)\n",
    "val_batches = gen.flow_from_directory(f'{path}valid', (sz,sz), batch_size=bs, shuffle=False)\n",
    "\n",
    "trn_acts = mn.predict_generator(generator=fix_batches, verbose=1, \n",
    "                                steps=nb_trn, workers=1)\n",
    "val_acts = mn.predict_generator(generator=val_batches, verbose=1,\n",
    "                                steps=nb_val, workers=1)"
   ]
  },
  {
   "cell_type": "markdown",
   "metadata": {},
   "source": [
    "Train single layer:"
   ]
  },
  {
   "cell_type": "code",
   "execution_count": 12,
   "metadata": {
    "collapsed": true
   },
   "outputs": [],
   "source": [
    "inp = Input(batch_shape=mn.output_shape)\n",
    "outp = Dense(1, activation='sigmoid')(inp)\n",
    "fc = Model(inp, outp)\n",
    "fc.compile(SGD(lr, momentum=0.9), 'binary_crossentropy', metrics=['accuracy'])"
   ]
  },
  {
   "cell_type": "code",
   "execution_count": 13,
   "metadata": {},
   "outputs": [
    {
     "name": "stdout",
     "output_type": "stream",
     "text": [
      "Train on 23000 samples, validate on 2000 samples\n",
      "Epoch 1/2\n",
      "23000/23000 [==============================] - 1s - loss: 0.1184 - acc: 0.9540 - val_loss: 0.0836 - val_acc: 0.9690\n",
      "Epoch 2/2\n",
      "23000/23000 [==============================] - 0s - loss: 0.0802 - acc: 0.9693 - val_loss: 0.0774 - val_acc: 0.9710\n"
     ]
    },
    {
     "data": {
      "text/plain": [
       "<keras.callbacks.History at 0x7fb6d58fce10>"
      ]
     },
     "execution_count": 13,
     "metadata": {},
     "output_type": "execute_result"
    }
   ],
   "source": [
    "fc.fit(trn_acts, fix_batches.classes, bs, 2, validation_data=(val_acts, val_batches.classes))"
   ]
  },
  {
   "cell_type": "code",
   "execution_count": null,
   "metadata": {
    "collapsed": true
   },
   "outputs": [],
   "source": []
  }
 ],
 "metadata": {
  "kernelspec": {
   "display_name": "Python [conda root]",
   "language": "python",
   "name": "conda-root-py"
  },
  "language_info": {
   "codemirror_mode": {
    "name": "ipython",
    "version": 3
   },
   "file_extension": ".py",
   "mimetype": "text/x-python",
   "name": "python",
   "nbconvert_exporter": "python",
   "pygments_lexer": "ipython3",
   "version": "3.6.2"
  }
 },
 "nbformat": 4,
 "nbformat_minor": 2
}
