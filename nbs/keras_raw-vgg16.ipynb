{
 "cells": [
  {
   "cell_type": "markdown",
   "metadata": {},
   "source": [
    "## Start"
   ]
  },
  {
   "cell_type": "code",
   "execution_count": 1,
   "metadata": {
    "collapsed": true
   },
   "outputs": [],
   "source": [
    "%reload_ext autoreload\n",
    "%autoreload 2\n",
    "%matplotlib inline"
   ]
  },
  {
   "cell_type": "code",
   "execution_count": 1,
   "metadata": {},
   "outputs": [
    {
     "name": "stderr",
     "output_type": "stream",
     "text": [
      "Using TensorFlow backend.\n"
     ]
    }
   ],
   "source": [
    "from imports import *\n",
    "from fast_gen import preprocess_scale, scale_and_center"
   ]
  },
  {
   "cell_type": "code",
   "execution_count": 13,
   "metadata": {
    "collapsed": true
   },
   "outputs": [],
   "source": [
    "imagenet_mean = np.array([103.939, 116.779, 123.68], dtype=np.float32).reshape((1,1,3))\n",
    "def preprocess_imagenet(x): return x[..., ::-1] - imagenet_mean"
   ]
  },
  {
   "cell_type": "code",
   "execution_count": 3,
   "metadata": {
    "collapsed": true
   },
   "outputs": [],
   "source": [
    "bs=64; sz=224; lr=2e-3"
   ]
  },
  {
   "cell_type": "code",
   "execution_count": 4,
   "metadata": {
    "collapsed": true
   },
   "outputs": [],
   "source": [
    "path = \"/data/jhoward/fast/dogscats/\""
   ]
  },
  {
   "cell_type": "code",
   "execution_count": 5,
   "metadata": {
    "collapsed": true
   },
   "outputs": [],
   "source": [
    "mn=VGG16()\n",
    "conv_outp=mn.get_layer('predictions').input\n",
    "outp = Dense(2, activation='softmax')(conv_outp)\n",
    "m = Model(mn.input, outp)\n",
    "for l in m.layers[:-1]: l.trainable=False\n",
    "m.compile(SGD(lr, momentum=0.9), 'categorical_crossentropy', metrics=['accuracy'])"
   ]
  },
  {
   "cell_type": "code",
   "execution_count": 9,
   "metadata": {
    "scrolled": false
   },
   "outputs": [
    {
     "name": "stdout",
     "output_type": "stream",
     "text": [
      "Found 23000 images belonging to 2 classes.\n",
      "Found 23000 images belonging to 2 classes.\n",
      "Found 2000 images belonging to 2 classes.\n"
     ]
    }
   ],
   "source": [
    "gen = image.ImageDataGenerator(preprocessing_function=preprocess_imagenet)\n",
    "trn_batches = gen.flow_from_directory(f'{path}train', (sz,sz), batch_size=bs)\n",
    "fix_batches = gen.flow_from_directory(f'{path}train', (sz,sz), batch_size=bs, shuffle=False)\n",
    "val_batches = gen.flow_from_directory(f'{path}valid', (sz,sz), batch_size=bs, shuffle=False)\n",
    "nb_trn = math.ceil(trn_batches.n/bs)\n",
    "nb_val = math.ceil(val_batches.n/bs)"
   ]
  },
  {
   "cell_type": "code",
   "execution_count": 10,
   "metadata": {
    "scrolled": false
   },
   "outputs": [
    {
     "name": "stdout",
     "output_type": "stream",
     "text": [
      "Epoch 1/3\n",
      "360/360 [==============================] - 136s - loss: 0.0698 - acc: 0.9772 - val_loss: 0.0515 - val_acc: 0.9805\n",
      "Epoch 2/3\n",
      "360/360 [==============================] - 132s - loss: 0.0400 - acc: 0.9859 - val_loss: 0.0441 - val_acc: 0.9830\n",
      "Epoch 3/3\n",
      "360/360 [==============================] - 132s - loss: 0.0294 - acc: 0.9891 - val_loss: 0.0425 - val_acc: 0.9850\n"
     ]
    },
    {
     "data": {
      "text/plain": [
       "<keras.callbacks.History at 0x7facf4f38160>"
      ]
     },
     "execution_count": 10,
     "metadata": {},
     "output_type": "execute_result"
    }
   ],
   "source": [
    "m.fit_generator(trn_batches, nb_trn, workers=1, epochs=3,\n",
    "                 validation_data=val_batches, validation_steps=nb_val)"
   ]
  },
  {
   "cell_type": "code",
   "execution_count": null,
   "metadata": {
    "collapsed": true
   },
   "outputs": [],
   "source": []
  },
  {
   "cell_type": "code",
   "execution_count": 17,
   "metadata": {
    "collapsed": true
   },
   "outputs": [],
   "source": [
    "mn=VGG16()\n",
    "conv_outp=mn.get_layer('predictions').input\n",
    "m = Model(mn.input, conv_outp)"
   ]
  },
  {
   "cell_type": "code",
   "execution_count": 18,
   "metadata": {},
   "outputs": [
    {
     "name": "stdout",
     "output_type": "stream",
     "text": [
      "360/360 [==============================] - 121s   \n",
      "32/32 [==============================] - 10s    \n"
     ]
    }
   ],
   "source": [
    "fix_batches.reset(); val_batches.reset()\n",
    "trn_acts = m.predict_generator(generator=fix_batches, verbose=1, \n",
    "                                steps=nb_trn, workers=1)\n",
    "val_acts = m.predict_generator(generator=val_batches, verbose=1,\n",
    "                                steps=nb_val, workers=1)"
   ]
  },
  {
   "cell_type": "code",
   "execution_count": 20,
   "metadata": {},
   "outputs": [],
   "source": [
    "inp = Input(batch_shape=m.output_shape)\n",
    "outp = Dense(1, activation='sigmoid')(inp)\n",
    "fc = Model(inp, outp)\n",
    "fc.compile(SGD(lr, momentum=0.9), 'binary_crossentropy', metrics=['accuracy'])"
   ]
  },
  {
   "cell_type": "code",
   "execution_count": 21,
   "metadata": {},
   "outputs": [
    {
     "name": "stdout",
     "output_type": "stream",
     "text": [
      "Train on 23000 samples, validate on 2000 samples\n",
      "Epoch 1/3\n",
      "23000/23000 [==============================] - 1s - loss: 0.0605 - acc: 0.9773 - val_loss: 0.0556 - val_acc: 0.9820\n",
      "Epoch 2/3\n",
      "23000/23000 [==============================] - 1s - loss: 0.0375 - acc: 0.9857 - val_loss: 0.0378 - val_acc: 0.9845\n",
      "Epoch 3/3\n",
      "23000/23000 [==============================] - 1s - loss: 0.0306 - acc: 0.9888 - val_loss: 0.0366 - val_acc: 0.9845\n"
     ]
    },
    {
     "data": {
      "text/plain": [
       "<keras.callbacks.History at 0x7faceda16c50>"
      ]
     },
     "execution_count": 21,
     "metadata": {},
     "output_type": "execute_result"
    }
   ],
   "source": [
    "fc.fit(trn_acts, fix_batches.classes, bs, 3, validation_data=(val_acts, val_batches.classes))"
   ]
  },
  {
   "cell_type": "code",
   "execution_count": null,
   "metadata": {
    "collapsed": true
   },
   "outputs": [],
   "source": []
  }
 ],
 "metadata": {
  "kernelspec": {
   "display_name": "Python [conda root]",
   "language": "python",
   "name": "conda-root-py"
  },
  "language_info": {
   "codemirror_mode": {
    "name": "ipython",
    "version": 3
   },
   "file_extension": ".py",
   "mimetype": "text/x-python",
   "name": "python",
   "nbconvert_exporter": "python",
   "pygments_lexer": "ipython3",
   "version": "3.6.2"
  }
 },
 "nbformat": 4,
 "nbformat_minor": 2
}
