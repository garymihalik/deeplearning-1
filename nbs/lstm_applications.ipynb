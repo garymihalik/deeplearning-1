{
 "cells": [
  {
   "cell_type": "markdown",
   "metadata": {},
   "source": [
    "# LSTM for sequence classification"
   ]
  },
  {
   "cell_type": "code",
   "execution_count": 34,
   "metadata": {},
   "outputs": [],
   "source": [
    "%matplotlib inline\n",
    "import lstm_utils\n",
    "import importlib\n",
    "importlib.reload(lstm_utils)\n",
    "from lstm_utils import *\n",
    "import sgdr\n",
    "importlib.reload(sgdr)\n",
    "from sgdr import *"
   ]
  },
  {
   "cell_type": "markdown",
   "metadata": {},
   "source": [
    "## Loading the IMDB dataset"
   ]
  },
  {
   "cell_type": "markdown",
   "metadata": {},
   "source": [
    "We're going to look at the IMDB dataset, which contains movie reviews from IMDB, along with their sentiment. Keras comes with some helpers for this dataset."
   ]
  },
  {
   "cell_type": "code",
   "execution_count": 2,
   "metadata": {
    "collapsed": true
   },
   "outputs": [],
   "source": [
    "from keras.datasets import imdb\n",
    "# fix random seed for reproducibility\n",
    "np.random.seed(3)\n",
    "# load the dataset but only keep the top n words, zero the rest\n",
    "top_words = 5000\n",
    "(X_train, y_train), (X_test, y_test) = imdb.load_data(num_words=top_words)\n",
    "# truncate and pad input sequences\n",
    "max_review_length = 500"
   ]
  },
  {
   "cell_type": "code",
   "execution_count": 3,
   "metadata": {
    "collapsed": true
   },
   "outputs": [],
   "source": [
    "#X_train[0]"
   ]
  },
  {
   "cell_type": "code",
   "execution_count": 4,
   "metadata": {
    "collapsed": true
   },
   "outputs": [],
   "source": [
    "trn = sequence.pad_sequences(X_train, maxlen=max_review_length)\n",
    "test = sequence.pad_sequences(X_test, maxlen=max_review_length)"
   ]
  },
  {
   "cell_type": "code",
   "execution_count": 5,
   "metadata": {},
   "outputs": [
    {
     "data": {
      "text/plain": [
       "['the', 'and', 'a', 'of', 'to', 'is', 'br', 'in', 'it', 'i']"
      ]
     },
     "execution_count": 5,
     "metadata": {},
     "output_type": "execute_result"
    }
   ],
   "source": [
    "idx = imdb.get_word_index()\n",
    "idx_arr = sorted(idx, key=idx.get)\n",
    "idx_arr[:10]"
   ]
  },
  {
   "cell_type": "markdown",
   "metadata": {},
   "source": [
    "...and this is the mapping from id to word"
   ]
  },
  {
   "cell_type": "code",
   "execution_count": 6,
   "metadata": {
    "collapsed": true
   },
   "outputs": [],
   "source": [
    "idx2word = {v: k for k, v in idx.items()}"
   ]
  },
  {
   "cell_type": "markdown",
   "metadata": {
    "collapsed": true
   },
   "source": [
    "# Defining the model"
   ]
  },
  {
   "cell_type": "code",
   "execution_count": 7,
   "metadata": {
    "collapsed": true
   },
   "outputs": [],
   "source": [
    "# getting pretrained word embeddings \n",
    "#The pickled files from fast.ai are not working. I pickled them again and worked\n",
    "#glove_path = get_glove_dataset()"
   ]
  },
  {
   "cell_type": "code",
   "execution_count": 8,
   "metadata": {
    "collapsed": true
   },
   "outputs": [],
   "source": [
    "glove_path = \"/data/yinterian/Glove/6B.50d\""
   ]
  },
  {
   "cell_type": "markdown",
   "metadata": {},
   "source": [
    "This function creates an array of work embeddings for our IMDB datset. It is using Glove embedings. You can find more about Glove embeddings here:\n",
    "https://nlp.stanford.edu/projects/glove/"
   ]
  },
  {
   "cell_type": "code",
   "execution_count": 9,
   "metadata": {
    "collapsed": true
   },
   "outputs": [],
   "source": [
    "emb = create_emb(top_words, glove_path, idx2word)"
   ]
  },
  {
   "cell_type": "code",
   "execution_count": 10,
   "metadata": {},
   "outputs": [
    {
     "data": {
      "text/plain": [
       "(5000, 50)"
      ]
     },
     "execution_count": 10,
     "metadata": {},
     "output_type": "execute_result"
    }
   ],
   "source": [
    "emb.shape"
   ]
  },
  {
   "cell_type": "markdown",
   "metadata": {},
   "source": [
    "try recurrent_dropout=0.2"
   ]
  },
  {
   "cell_type": "code",
   "execution_count": 11,
   "metadata": {
    "collapsed": true
   },
   "outputs": [],
   "source": [
    "vocab_size = top_words\n",
    "seq_len = max_review_length\n",
    "\n",
    "inputs = Input(shape=(seq_len,), dtype='int32')\n",
    "x = Embedding(vocab_size, 50, input_length=seq_len, mask_zero=True,\n",
    "              weights=[emb], embeddings_regularizer=regularizers.l2(1e-5))(inputs)\n",
    "x = Dropout(0.2)(x)\n",
    "x = LSTM(100, implementation=2)(x)\n",
    "x = Dense(1, activation='sigmoid')(x)\n",
    "model = Model(inputs=inputs, outputs=x)\n",
    "model.compile(loss='binary_crossentropy', optimizer='adam', metrics=['accuracy'])"
   ]
  },
  {
   "cell_type": "code",
   "execution_count": 73,
   "metadata": {},
   "outputs": [
    {
     "name": "stdout",
     "output_type": "stream",
     "text": [
      "Train on 25000 samples, validate on 25000 samples\n",
      "Epoch 1/5\n",
      "25000/25000 [==============================] - 282s - loss: 0.6277 - acc: 0.7202 - val_loss: 0.4481 - val_acc: 0.8454\n",
      "Epoch 2/5\n",
      "25000/25000 [==============================] - 283s - loss: 0.4012 - acc: 0.8680 - val_loss: 0.4078 - val_acc: 0.8643\n",
      "Epoch 3/5\n",
      "25000/25000 [==============================] - 279s - loss: 0.3453 - acc: 0.8956 - val_loss: 0.4053 - val_acc: 0.8619\n",
      "Epoch 4/5\n",
      "25000/25000 [==============================] - 279s - loss: 0.3018 - acc: 0.9102 - val_loss: 0.3855 - val_acc: 0.8696\n",
      "Epoch 5/5\n",
      "25000/25000 [==============================] - 281s - loss: 0.2688 - acc: 0.9240 - val_loss: 0.3978 - val_acc: 0.8577\n"
     ]
    },
    {
     "data": {
      "text/plain": [
       "<keras.callbacks.History at 0x7fd90c051f28>"
      ]
     },
     "execution_count": 73,
     "metadata": {},
     "output_type": "execute_result"
    }
   ],
   "source": [
    "model.fit(trn, y_train, validation_data=(test, y_test), epochs=5, batch_size=64)"
   ]
  },
  {
   "cell_type": "code",
   "execution_count": 74,
   "metadata": {},
   "outputs": [
    {
     "data": {
      "text/plain": [
       "<tf.Tensor 'Assign_79:0' shape=() dtype=float32_ref>"
      ]
     },
     "execution_count": 74,
     "metadata": {},
     "output_type": "execute_result"
    }
   ],
   "source": [
    "model.optimizer.lr.assign(0.0001)"
   ]
  },
  {
   "cell_type": "code",
   "execution_count": 75,
   "metadata": {},
   "outputs": [
    {
     "name": "stdout",
     "output_type": "stream",
     "text": [
      "Train on 25000 samples, validate on 25000 samples\n",
      "Epoch 1/2\n",
      "25000/25000 [==============================] - 283s - loss: 0.2491 - acc: 0.9292 - val_loss: 0.3987 - val_acc: 0.8772\n",
      "Epoch 2/2\n",
      "25000/25000 [==============================] - 283s - loss: 0.2191 - acc: 0.9431 - val_loss: 0.4002 - val_acc: 0.8727\n"
     ]
    },
    {
     "data": {
      "text/plain": [
       "<keras.callbacks.History at 0x7fd90c051d68>"
      ]
     },
     "execution_count": 75,
     "metadata": {},
     "output_type": "execute_result"
    }
   ],
   "source": [
    "model.fit(trn, y_train, validation_data=(test, y_test), epochs=2, batch_size=64)"
   ]
  },
  {
   "cell_type": "code",
   "execution_count": 49,
   "metadata": {
    "collapsed": true
   },
   "outputs": [],
   "source": [
    "batch_size=64\n",
    "steps_per_epoch = math.ceil(25000/batch_size)"
   ]
  },
  {
   "cell_type": "code",
   "execution_count": 101,
   "metadata": {
    "collapsed": true
   },
   "outputs": [],
   "source": [
    "# without pretrined embedings\n",
    "vocab_size = top_words\n",
    "seq_len = max_review_length\n",
    "\n",
    "inputs = Input(shape=(seq_len,), dtype='int32')\n",
    "x = Embedding(vocab_size, 20, input_length=seq_len, mask_zero=True,\n",
    "              embeddings_regularizer=regularizers.l2(1e-4))(inputs)\n",
    "x = Dropout(0.25)(x)\n",
    "x = LSTM(100, implementation=2)(x)\n",
    "x = Dense(1, activation='sigmoid')(x)\n",
    "model2 = Model(inputs=inputs, outputs=x)\n",
    "model2.compile(loss='binary_crossentropy', optimizer='adam', metrics=['accuracy'])"
   ]
  },
  {
   "cell_type": "code",
   "execution_count": 102,
   "metadata": {},
   "outputs": [
    {
     "data": {
      "text/plain": [
       "<tf.Tensor 'Assign_159:0' shape=() dtype=float32_ref>"
      ]
     },
     "execution_count": 102,
     "metadata": {},
     "output_type": "execute_result"
    }
   ],
   "source": [
    "# found this with LR_Finder\n",
    "model2.optimizer.lr.assign(0.01)"
   ]
  },
  {
   "cell_type": "code",
   "execution_count": 103,
   "metadata": {},
   "outputs": [
    {
     "name": "stdout",
     "output_type": "stream",
     "text": [
      "Train on 25000 samples, validate on 25000 samples\n",
      "Epoch 1/2\n",
      "25000/25000 [==============================] - 467s - loss: 0.5486 - acc: 0.7142 - val_loss: 0.3861 - val_acc: 0.8429\n",
      "Epoch 2/2\n",
      "25000/25000 [==============================] - 466s - loss: 0.3373 - acc: 0.8696 - val_loss: 0.3280 - val_acc: 0.8704\n"
     ]
    },
    {
     "data": {
      "text/plain": [
       "<keras.callbacks.History at 0x7fd919fae5f8>"
      ]
     },
     "execution_count": 103,
     "metadata": {},
     "output_type": "execute_result"
    }
   ],
   "source": [
    "model2.fit(trn, y_train, validation_data=(test, y_test), epochs=2, batch_size=64)"
   ]
  },
  {
   "cell_type": "code",
   "execution_count": 104,
   "metadata": {},
   "outputs": [
    {
     "data": {
      "text/plain": [
       "<tf.Tensor 'Assign_178:0' shape=() dtype=float32_ref>"
      ]
     },
     "execution_count": 104,
     "metadata": {},
     "output_type": "execute_result"
    }
   ],
   "source": [
    "model2.optimizer.lr.assign(0.001)"
   ]
  },
  {
   "cell_type": "code",
   "execution_count": 105,
   "metadata": {},
   "outputs": [
    {
     "name": "stdout",
     "output_type": "stream",
     "text": [
      "Train on 25000 samples, validate on 25000 samples\n",
      "Epoch 1/2\n",
      "25000/25000 [==============================] - 464s - loss: 0.3181 - acc: 0.8810 - val_loss: 0.3461 - val_acc: 0.8672\n",
      "Epoch 2/2\n",
      "25000/25000 [==============================] - 467s - loss: 0.2924 - acc: 0.8935 - val_loss: 0.3524 - val_acc: 0.8641\n"
     ]
    },
    {
     "data": {
      "text/plain": [
       "<keras.callbacks.History at 0x7fd9cf8b5978>"
      ]
     },
     "execution_count": 105,
     "metadata": {},
     "output_type": "execute_result"
    }
   ],
   "source": [
    "model2.fit(trn, y_train, validation_data=(test, y_test), epochs=2, batch_size=64)"
   ]
  },
  {
   "cell_type": "markdown",
   "metadata": {},
   "source": [
    "## Learning Rate Finder"
   ]
  },
  {
   "cell_type": "code",
   "execution_count": 80,
   "metadata": {},
   "outputs": [
    {
     "name": "stdout",
     "output_type": "stream",
     "text": [
      "Train on 25000 samples, validate on 25000 samples\n",
      "Epoch 1/1\n",
      "25000/25000 [==============================] - 285s - loss: 18.6379 - acc: 0.5463 - val_loss: 235.2400 - val_acc: 0.4986\n"
     ]
    },
    {
     "data": {
      "text/plain": [
       "<keras.callbacks.History at 0x7fd91c619f98>"
      ]
     },
     "execution_count": 80,
     "metadata": {},
     "output_type": "execute_result"
    }
   ],
   "source": [
    "batch_size=64\n",
    "steps_per_epoch = math.ceil(25000/batch_size)\n",
    "cb = LR_Finder(steps_per_epoch, start_lr=1e-7, end_lr=10)\n",
    "model2.fit(trn, y_train, epochs=1, validation_data=(test, y_test), batch_size=batch_size, \n",
    "           callbacks=[cb], verbose=1)"
   ]
  },
  {
   "cell_type": "code",
   "execution_count": 84,
   "metadata": {},
   "outputs": [
    {
     "data": {
      "image/png": "[encoded data removed]",
      "text/plain": [
       "<matplotlib.figure.Figure at 0x7fd9082385c0>"
      ]
     },
     "metadata": {},
     "output_type": "display_data"
    }
   ],
   "source": [
    "%matplotlib inline\n",
    "plt.plot(cb.history['lr'], cb.losses)\n",
    "plt.ylim((0,2))\n",
    "plt.xscale('log');"
   ]
  },
  {
   "cell_type": "markdown",
   "metadata": {},
   "source": [
    "## Cosine Annealing"
   ]
  },
  {
   "cell_type": "code",
   "execution_count": 29,
   "metadata": {},
   "outputs": [],
   "source": [
    "vocab_size = top_words\n",
    "seq_len = max_review_length\n",
    "# weights=[emb]\n",
    "\n",
    "inputs = Input(shape=(seq_len,), dtype='int32')\n",
    "x = Embedding(vocab_size, 50, input_length=seq_len, mask_zero=True,\n",
    "              embeddings_regularizer=regularizers.l2(1e-4))(inputs)\n",
    "x = Dropout(0.4)(x)\n",
    "x = LSTM(70, implementation=2)(x)\n",
    "x = Dense(1, activation='sigmoid')(x)\n",
    "model = Model(inputs=inputs, outputs=x)\n",
    "model.compile(loss='binary_crossentropy', optimizer='adam', metrics=['accuracy'])"
   ]
  },
  {
   "cell_type": "code",
   "execution_count": 30,
   "metadata": {
    "collapsed": true
   },
   "outputs": [],
   "source": [
    "batch_size=64\n",
    "steps_per_epoch = math.ceil(25000/batch_size)\n",
    "def fc_cos(model, steps_per_epoch, nc,  cl, lr, tmult=1):\n",
    "    for i in range(nc):\n",
    "        cb = CosAnneal(steps_per_epoch, init_lr=lr)\n",
    "        model.fit(trn, y_train, validation_data=(test, y_test), epochs=cl,\n",
    "                         batch_size=64, callbacks=[cb])\n",
    "        cl *= tmult"
   ]
  },
  {
   "cell_type": "code",
   "execution_count": 31,
   "metadata": {},
   "outputs": [
    {
     "name": "stdout",
     "output_type": "stream",
     "text": [
      "Train on 25000 samples, validate on 25000 samples\n",
      "Epoch 1/5\n",
      "25000/25000 [==============================] - 452s - loss: 0.5845 - acc: 0.7413 - val_loss: 0.4843 - val_acc: 0.8214\n",
      "Epoch 2/5\n",
      "25000/25000 [==============================] - 442s - loss: 0.5010 - acc: 0.8281 - val_loss: 0.4111 - val_acc: 0.8709\n",
      "Epoch 3/5\n",
      "25000/25000 [==============================] - 444s - loss: 0.4227 - acc: 0.8807 - val_loss: 0.3876 - val_acc: 0.8894\n",
      "Epoch 4/5\n",
      "25000/25000 [==============================] - 448s - loss: 0.4145 - acc: 0.8938 - val_loss: 0.3989 - val_acc: 0.8924\n",
      "Epoch 5/5\n",
      "25000/25000 [==============================] - 445s - loss: 0.4132 - acc: 0.8997 - val_loss: 0.3980 - val_acc: 0.8949\n",
      "Train on 25000 samples, validate on 25000 samples\n",
      "Epoch 1/5\n",
      "25000/25000 [==============================] - 446s - loss: 0.4092 - acc: 0.9032 - val_loss: 0.4075 - val_acc: 0.8927\n",
      "Epoch 2/5\n",
      "25000/25000 [==============================] - 444s - loss: 0.4053 - acc: 0.9070 - val_loss: 0.4077 - val_acc: 0.8946\n",
      "Epoch 3/5\n",
      "25000/25000 [==============================] - 455s - loss: 0.4064 - acc: 0.9082 - val_loss: 0.4233 - val_acc: 0.8916\n",
      "Epoch 4/5\n",
      "25000/25000 [==============================] - 446s - loss: 0.4083 - acc: 0.9112 - val_loss: 0.4277 - val_acc: 0.8928\n",
      "Epoch 5/5\n",
      "25000/25000 [==============================] - 455s - loss: 0.4129 - acc: 0.9107 - val_loss: 0.4287 - val_acc: 0.8933\n",
      "Train on 25000 samples, validate on 25000 samples\n",
      "Epoch 1/5\n",
      "25000/25000 [==============================] - 445s - loss: 0.4099 - acc: 0.9150 - val_loss: 0.4297 - val_acc: 0.8966\n",
      "Epoch 2/5\n",
      "25000/25000 [==============================] - 448s - loss: 0.4070 - acc: 0.9152 - val_loss: 0.4354 - val_acc: 0.8966\n",
      "Epoch 3/5\n",
      "25000/25000 [==============================] - 441s - loss: 0.4100 - acc: 0.9157 - val_loss: 0.4425 - val_acc: 0.8943\n",
      "Epoch 4/5\n",
      "25000/25000 [==============================] - 448s - loss: 0.4145 - acc: 0.9158 - val_loss: 0.4479 - val_acc: 0.8958\n",
      "Epoch 5/5\n",
      "25000/25000 [==============================] - 447s - loss: 0.4050 - acc: 0.9195 - val_loss: 0.4585 - val_acc: 0.8960\n"
     ]
    }
   ],
   "source": [
    "# I found these parameters after some random search \n",
    "fc_cos(model, steps_per_epoch, nc=3, cl=5, lr=0.01)"
   ]
  },
  {
   "cell_type": "markdown",
   "metadata": {},
   "source": [
    "## Random parameter search"
   ]
  },
  {
   "cell_type": "markdown",
   "metadata": {},
   "source": [
    "This model has many parameters. Here are some of them with their current defaul values\n",
    "* top_words (5000)\n",
    "* max_review_length (500)\n",
    "* Dropout value (0.2)\n",
    "* embeddings_regularizer (1e-5)\n",
    "* number of units in the LSTM (100)\n",
    "* size of the embeding (50)\n",
    "* start with a pre-trained embeding (we can use it for certain sizes)\n",
    "* optimization type (adam)\n",
    "* learning rates"
   ]
  },
  {
   "cell_type": "code",
   "execution_count": 14,
   "metadata": {
    "collapsed": true
   },
   "outputs": [],
   "source": [
    "units_arr = np.array([16, 24, 64, 128, 256])\n",
    "embeding_size_arr = np.array([16, 24, 64, 128])\n",
    "emb_reg_arr = np.array([1e-1, 1e-2, 1e-3, 1e-4, 1e-5, 1e-6])\n",
    "dropout_arr = np.array([0.0, 0.1, 0.2, 0.4])"
   ]
  },
  {
   "cell_type": "code",
   "execution_count": 38,
   "metadata": {},
   "outputs": [],
   "source": [
    "import random\n",
    "units_arr = np.array([20, 30, 40, 50, 60, 70])\n",
    "embeding_size_arr = np.array([20, 30, 40, 50, 60, 70])\n",
    "emb_reg_arr = np.array([1e-2, 1e-3, 1e-4, 1e-5])\n",
    "dropout_arr = np.array([0.0, 0.1, 0.2, 0.3, 0.4, 0.5])\n",
    "\n",
    "K = 20\n",
    "list_arr = [units_arr, embeding_size_arr, emb_reg_arr, dropout_arr]\n",
    "list_names = [\"units\", \"embeding_size\", \"emb_reg\", \"dropout\"]\n",
    "parm_list = {}\n",
    "for l, name in zip(list_arr, list_names):\n",
    "    parm_list[name] = random.choices(l, k = K)"
   ]
  },
  {
   "cell_type": "code",
   "execution_count": 39,
   "metadata": {},
   "outputs": [
    {
     "name": "stdout",
     "output_type": "stream",
     "text": [
      "0 30 70 0.001 0.2\n",
      "Train on 25000 samples, validate on 25000 samples\n",
      "Epoch 1/5\n",
      "25000/25000 [==============================] - 436s - loss: 0.6811 - acc: 0.7293 - val_loss: 0.5626 - val_acc: 0.8016\n",
      "Epoch 2/5\n",
      "25000/25000 [==============================] - 441s - loss: 0.6287 - acc: 0.8109 - val_loss: 0.4782 - val_acc: 0.8592\n",
      "Epoch 3/5\n",
      "25000/25000 [==============================] - 451s - loss: 0.6369 - acc: 0.8416 - val_loss: 0.4680 - val_acc: 0.8765\n",
      "Epoch 4/5\n",
      "25000/25000 [==============================] - 444s - loss: 0.6651 - acc: 0.8481 - val_loss: 0.4527 - val_acc: 0.8832\n",
      "Epoch 5/5\n",
      "25000/25000 [==============================] - 439s - loss: 0.5997 - acc: 0.8668 - val_loss: 0.4476 - val_acc: 0.8906\n",
      "1 70 50 0.0001 0.0\n",
      "Train on 25000 samples, validate on 25000 samples\n",
      "Epoch 1/5\n",
      "25000/25000 [==============================] - 451s - loss: 0.5954 - acc: 0.7314 - val_loss: 0.5208 - val_acc: 0.7902\n",
      "Epoch 2/5\n",
      "25000/25000 [==============================] - 475s - loss: 0.4755 - acc: 0.8332 - val_loss: 0.3842 - val_acc: 0.8766\n",
      "Epoch 3/5\n",
      "25000/25000 [==============================] - 450s - loss: 0.3819 - acc: 0.8871 - val_loss: 0.3469 - val_acc: 0.8913\n",
      "Epoch 4/5\n",
      "25000/25000 [==============================] - 473s - loss: 0.3622 - acc: 0.8989 - val_loss: 0.3533 - val_acc: 0.8916\n",
      "Epoch 5/5\n",
      "25000/25000 [==============================] - 470s - loss: 0.3513 - acc: 0.9055 - val_loss: 0.3586 - val_acc: 0.8934\n",
      "2 40 60 0.0001 0.1\n",
      "Train on 25000 samples, validate on 25000 samples\n",
      "Epoch 1/5\n",
      "25000/25000 [==============================] - 443s - loss: 0.5557 - acc: 0.7709 - val_loss: 0.4448 - val_acc: 0.8438\n",
      "Epoch 2/5\n",
      "25000/25000 [==============================] - 451s - loss: 0.5049 - acc: 0.8324 - val_loss: 0.4403 - val_acc: 0.8548\n",
      "Epoch 3/5\n",
      "25000/25000 [==============================] - 455s - loss: 0.5119 - acc: 0.8412 - val_loss: 0.4313 - val_acc: 0.8736\n",
      "Epoch 4/5\n",
      "25000/25000 [==============================] - 468s - loss: 0.4119 - acc: 0.8861 - val_loss: 0.3778 - val_acc: 0.8891\n",
      "Epoch 5/5\n",
      "25000/25000 [==============================] - 471s - loss: 0.3812 - acc: 0.9007 - val_loss: 0.3732 - val_acc: 0.8921\n",
      "3 20 60 1e-05 0.3\n",
      "Train on 25000 samples, validate on 25000 samples\n",
      "Epoch 1/5\n",
      "25000/25000 [==============================] - 422s - loss: 0.4818 - acc: 0.7847 - val_loss: 0.3832 - val_acc: 0.8571\n",
      "Epoch 2/5\n",
      "25000/25000 [==============================] - 435s - loss: 0.4963 - acc: 0.7908 - val_loss: 0.5945 - val_acc: 0.7166\n",
      "Epoch 3/5\n",
      "25000/25000 [==============================] - 421s - loss: 0.4110 - acc: 0.8552 - val_loss: 0.4181 - val_acc: 0.8605\n",
      "Epoch 4/5\n",
      "25000/25000 [==============================] - 402s - loss: 0.3659 - acc: 0.8853 - val_loss: 0.3941 - val_acc: 0.8710\n",
      "Epoch 5/5\n",
      "25000/25000 [==============================] - 518s - loss: 0.3513 - acc: 0.8961 - val_loss: 0.4005 - val_acc: 0.8720\n",
      "4 20 60 0.0001 0.1\n",
      "Train on 25000 samples, validate on 25000 samples\n",
      "Epoch 1/5\n",
      "25000/25000 [==============================] - 412s - loss: 0.5542 - acc: 0.7674 - val_loss: 0.4388 - val_acc: 0.8495\n",
      "Epoch 2/5\n",
      "25000/25000 [==============================] - 486s - loss: 0.5890 - acc: 0.7416 - val_loss: 0.4369 - val_acc: 0.8607\n",
      "Epoch 3/5\n",
      "25000/25000 [==============================] - 468s - loss: 0.4432 - acc: 0.8718 - val_loss: 0.3936 - val_acc: 0.8830\n",
      "Epoch 4/5\n",
      "25000/25000 [==============================] - 479s - loss: 0.3990 - acc: 0.8920 - val_loss: 0.3833 - val_acc: 0.8887\n",
      "Epoch 5/5\n",
      "25000/25000 [==============================] - 412s - loss: 0.3884 - acc: 0.9005 - val_loss: 0.3885 - val_acc: 0.8897\n",
      "5 20 40 0.0001 0.2\n",
      "Train on 25000 samples, validate on 25000 samples\n",
      "Epoch 1/5\n",
      "25000/25000 [==============================] - 402s - loss: 0.5669 - acc: 0.7509 - val_loss: 0.4717 - val_acc: 0.8194\n",
      "Epoch 2/5\n",
      "25000/25000 [==============================] - 460s - loss: 0.5492 - acc: 0.7836 - val_loss: 0.4554 - val_acc: 0.8488\n",
      "Epoch 3/5\n",
      "25000/25000 [==============================] - 427s - loss: 0.4467 - acc: 0.8629 - val_loss: 0.4000 - val_acc: 0.8738\n",
      "Epoch 4/5\n",
      "25000/25000 [==============================] - 430s - loss: 0.3959 - acc: 0.8867 - val_loss: 0.3733 - val_acc: 0.8880\n",
      "Epoch 5/5\n",
      "25000/25000 [==============================] - 442s - loss: 0.3624 - acc: 0.8989 - val_loss: 0.3555 - val_acc: 0.8958\n",
      "6 60 70 1e-05 0.4\n",
      "Train on 25000 samples, validate on 25000 samples\n",
      "Epoch 1/5\n",
      "25000/25000 [==============================] - 499s - loss: 0.5037 - acc: 0.7669 - val_loss: 0.3971 - val_acc: 0.8552\n",
      "Epoch 2/5\n",
      "25000/25000 [==============================] - 499s - loss: 0.3527 - acc: 0.8762 - val_loss: 0.3397 - val_acc: 0.8846\n",
      "Epoch 3/5\n",
      "25000/25000 [==============================] - 474s - loss: 0.3077 - acc: 0.9050 - val_loss: 0.3426 - val_acc: 0.8884\n",
      "Epoch 4/5\n",
      "25000/25000 [==============================] - 456s - loss: 0.2909 - acc: 0.9165 - val_loss: 0.3580 - val_acc: 0.8904\n",
      "Epoch 5/5\n",
      "25000/25000 [==============================] - 500s - loss: 0.2741 - acc: 0.9270 - val_loss: 0.3745 - val_acc: 0.8886\n",
      "7 40 30 0.0001 0.4\n",
      "Train on 25000 samples, validate on 25000 samples\n",
      "Epoch 1/5\n",
      "25000/25000 [==============================] - 446s - loss: 0.5314 - acc: 0.7752 - val_loss: 0.4184 - val_acc: 0.8499\n",
      "Epoch 2/5\n",
      "25000/25000 [==============================] - 445s - loss: 0.5191 - acc: 0.8092 - val_loss: 0.4401 - val_acc: 0.8498\n",
      "Epoch 3/5\n",
      "25000/25000 [==============================] - 447s - loss: 0.5483 - acc: 0.7896 - val_loss: 0.4245 - val_acc: 0.8640\n",
      "Epoch 4/5\n",
      "25000/25000 [==============================] - 447s - loss: 0.4461 - acc: 0.8704 - val_loss: 0.4098 - val_acc: 0.8815\n",
      "Epoch 5/5\n",
      "25000/25000 [==============================] - 448s - loss: 0.4475 - acc: 0.8761 - val_loss: 0.4321 - val_acc: 0.8759\n",
      "8 70 30 0.01 0.3\n",
      "Train on 25000 samples, validate on 25000 samples\n",
      "Epoch 1/5\n",
      "25000/25000 [==============================] - 449s - loss: 0.7569 - acc: 0.6355 - val_loss: 0.6902 - val_acc: 0.6720\n",
      "Epoch 2/5\n",
      "25000/25000 [==============================] - 450s - loss: 0.8007 - acc: 0.6251 - val_loss: 0.6989 - val_acc: 0.6426\n",
      "Epoch 3/5\n",
      "25000/25000 [==============================] - 446s - loss: 0.8279 - acc: 0.7132 - val_loss: 0.6299 - val_acc: 0.7682\n",
      "Epoch 4/5\n",
      "25000/25000 [==============================] - 448s - loss: 0.7638 - acc: 0.7219 - val_loss: 0.5408 - val_acc: 0.8136\n",
      "Epoch 5/5\n",
      "25000/25000 [==============================] - 449s - loss: 0.7764 - acc: 0.7714 - val_loss: 0.5315 - val_acc: 0.8513\n",
      "9 70 50 0.0001 0.3\n",
      "Train on 25000 samples, validate on 25000 samples\n",
      "Epoch 1/5\n",
      "25000/25000 [==============================] - 448s - loss: 0.6184 - acc: 0.7132 - val_loss: 0.4755 - val_acc: 0.8354\n",
      "Epoch 2/5\n",
      "25000/25000 [==============================] - 447s - loss: 0.4875 - acc: 0.8508 - val_loss: 0.4148 - val_acc: 0.8774\n",
      "Epoch 3/5\n",
      "25000/25000 [==============================] - 448s - loss: 0.4430 - acc: 0.8807 - val_loss: 0.4057 - val_acc: 0.8851\n",
      "Epoch 4/5\n",
      "25000/25000 [==============================] - 444s - loss: 0.4182 - acc: 0.8880 - val_loss: 0.3993 - val_acc: 0.8873\n",
      "Epoch 5/5\n",
      "25000/25000 [==============================] - 449s - loss: 0.4068 - acc: 0.8960 - val_loss: 0.3963 - val_acc: 0.8880\n",
      "10 40 70 0.0001 0.5\n",
      "Train on 25000 samples, validate on 25000 samples\n",
      "Epoch 1/5\n",
      "25000/25000 [==============================] - 465s - loss: 0.5690 - acc: 0.7706 - val_loss: 0.4463 - val_acc: 0.8592\n",
      "Epoch 2/5\n",
      "25000/25000 [==============================] - 463s - loss: 0.5238 - acc: 0.8385 - val_loss: 0.4293 - val_acc: 0.8808\n",
      "Epoch 3/5\n",
      "25000/25000 [==============================] - 466s - loss: 0.4500 - acc: 0.8843 - val_loss: 0.4100 - val_acc: 0.8929\n",
      "Epoch 4/5\n",
      "25000/25000 [==============================] - 463s - loss: 0.4516 - acc: 0.8926 - val_loss: 0.4257 - val_acc: 0.8919\n",
      "Epoch 5/5\n",
      "25000/25000 [==============================] - 464s - loss: 0.4499 - acc: 0.8968 - val_loss: 0.4268 - val_acc: 0.8966\n",
      "11 20 50 0.0001 0.4\n",
      "Train on 25000 samples, validate on 25000 samples\n",
      "Epoch 1/5\n",
      "25000/25000 [==============================] - 411s - loss: 0.5843 - acc: 0.7517 - val_loss: 0.5236 - val_acc: 0.7992\n",
      "Epoch 2/5\n",
      "25000/25000 [==============================] - 410s - loss: 0.5383 - acc: 0.8164 - val_loss: 0.4607 - val_acc: 0.8514\n",
      "Epoch 3/5\n"
     ]
    },
    {
     "name": "stdout",
     "output_type": "stream",
     "text": [
      "25000/25000 [==============================] - 407s - loss: 0.5392 - acc: 0.8289 - val_loss: 0.4607 - val_acc: 0.8731\n",
      "Epoch 4/5\n",
      "25000/25000 [==============================] - 409s - loss: 0.4546 - acc: 0.8810 - val_loss: 0.4160 - val_acc: 0.8846\n",
      "Epoch 5/5\n",
      "25000/25000 [==============================] - 410s - loss: 0.4246 - acc: 0.8905 - val_loss: 0.4091 - val_acc: 0.8886\n",
      "12 50 30 0.0001 0.3\n",
      "Train on 25000 samples, validate on 25000 samples\n",
      "Epoch 1/5\n",
      "25000/25000 [==============================] - 461s - loss: 0.6649 - acc: 0.6588 - val_loss: 0.6430 - val_acc: 0.7036\n",
      "Epoch 2/5\n",
      "25000/25000 [==============================] - 468s - loss: 0.5267 - acc: 0.7971 - val_loss: 0.4412 - val_acc: 0.8510\n",
      "Epoch 3/5\n",
      "25000/25000 [==============================] - 464s - loss: 0.4891 - acc: 0.8410 - val_loss: 0.4419 - val_acc: 0.8614\n",
      "Epoch 4/5\n",
      "25000/25000 [==============================] - 465s - loss: 0.6511 - acc: 0.7302 - val_loss: 0.7018 - val_acc: 0.6688\n",
      "Epoch 5/5\n",
      "25000/25000 [==============================] - 465s - loss: 0.5099 - acc: 0.8272 - val_loss: 0.4364 - val_acc: 0.8684\n",
      "13 70 30 1e-05 0.3\n",
      "Train on 25000 samples, validate on 25000 samples\n",
      "Epoch 1/5\n",
      "25000/25000 [==============================] - 450s - loss: 0.5502 - acc: 0.7252 - val_loss: 0.4256 - val_acc: 0.8228\n",
      "Epoch 2/5\n",
      "25000/25000 [==============================] - 452s - loss: 0.3910 - acc: 0.8470 - val_loss: 0.3478 - val_acc: 0.8707\n",
      "Epoch 3/5\n",
      "25000/25000 [==============================] - 449s - loss: 0.3130 - acc: 0.8888 - val_loss: 0.3200 - val_acc: 0.8860\n",
      "Epoch 4/5\n",
      "25000/25000 [==============================] - 448s - loss: 0.2795 - acc: 0.9079 - val_loss: 0.3204 - val_acc: 0.8903\n",
      "Epoch 5/5\n",
      "25000/25000 [==============================] - 451s - loss: 0.2500 - acc: 0.9218 - val_loss: 0.3182 - val_acc: 0.8930\n",
      "14 20 50 1e-05 0.0\n",
      "Train on 25000 samples, validate on 25000 samples\n",
      "Epoch 1/5\n",
      "25000/25000 [==============================] - 409s - loss: 0.5483 - acc: 0.7403 - val_loss: 0.4932 - val_acc: 0.7876\n",
      "Epoch 2/5\n",
      "25000/25000 [==============================] - 406s - loss: 0.4519 - acc: 0.8130 - val_loss: 0.4013 - val_acc: 0.8483\n",
      "Epoch 3/5\n",
      "25000/25000 [==============================] - 409s - loss: 0.3705 - acc: 0.8657 - val_loss: 0.3702 - val_acc: 0.8678\n",
      "Epoch 4/5\n",
      "25000/25000 [==============================] - 408s - loss: 0.3478 - acc: 0.8826 - val_loss: 0.3833 - val_acc: 0.8655\n",
      "Epoch 5/5\n",
      "25000/25000 [==============================] - 404s - loss: 0.3206 - acc: 0.8972 - val_loss: 0.3824 - val_acc: 0.8728\n",
      "15 20 60 0.001 0.5\n",
      "Train on 25000 samples, validate on 25000 samples\n",
      "Epoch 1/5\n",
      "25000/25000 [==============================] - 410s - loss: 0.7499 - acc: 0.6806 - val_loss: 0.6301 - val_acc: 0.7531\n",
      "Epoch 2/5\n",
      "25000/25000 [==============================] - 411s - loss: 0.7877 - acc: 0.7380 - val_loss: 0.6466 - val_acc: 0.8119\n",
      "Epoch 3/5\n",
      "25000/25000 [==============================] - 413s - loss: 0.7092 - acc: 0.8300 - val_loss: 0.4995 - val_acc: 0.8766\n",
      "Epoch 4/5\n",
      "25000/25000 [==============================] - 413s - loss: 0.6207 - acc: 0.8614 - val_loss: 0.4400 - val_acc: 0.8898\n",
      "Epoch 5/5\n",
      "25000/25000 [==============================] - 415s - loss: 0.5872 - acc: 0.8703 - val_loss: 0.4324 - val_acc: 0.8900\n",
      "16 30 50 0.0001 0.4\n",
      "Train on 25000 samples, validate on 25000 samples\n",
      "Epoch 1/5\n",
      "25000/25000 [==============================] - 433s - loss: 0.5945 - acc: 0.7338 - val_loss: 0.4932 - val_acc: 0.8088\n",
      "Epoch 2/5\n",
      "25000/25000 [==============================] - 431s - loss: 0.5724 - acc: 0.7942 - val_loss: 0.5017 - val_acc: 0.8453\n",
      "Epoch 3/5\n",
      "25000/25000 [==============================] - 433s - loss: 0.5154 - acc: 0.8550 - val_loss: 0.4714 - val_acc: 0.8638\n",
      "Epoch 4/5\n",
      "25000/25000 [==============================] - 432s - loss: 0.4396 - acc: 0.8800 - val_loss: 0.4127 - val_acc: 0.8812\n",
      "Epoch 5/5\n",
      "25000/25000 [==============================] - 434s - loss: 0.4309 - acc: 0.8872 - val_loss: 0.4229 - val_acc: 0.8825\n",
      "17 20 60 0.0001 0.0\n",
      "Train on 25000 samples, validate on 25000 samples\n",
      "Epoch 1/5\n",
      "25000/25000 [==============================] - 411s - loss: 0.5975 - acc: 0.7372 - val_loss: 0.4852 - val_acc: 0.8158\n",
      "Epoch 2/5\n",
      "25000/25000 [==============================] - 410s - loss: 0.7056 - acc: 0.6730 - val_loss: 0.6620 - val_acc: 0.7139\n",
      "Epoch 3/5\n",
      "25000/25000 [==============================] - 412s - loss: 0.5256 - acc: 0.8224 - val_loss: 0.4266 - val_acc: 0.8685\n",
      "Epoch 4/5\n",
      "25000/25000 [==============================] - 413s - loss: 0.4216 - acc: 0.8746 - val_loss: 0.3951 - val_acc: 0.8785\n",
      "Epoch 5/5\n",
      "25000/25000 [==============================] - 410s - loss: 0.4097 - acc: 0.8837 - val_loss: 0.3878 - val_acc: 0.8830\n",
      "18 50 40 0.001 0.4\n",
      "Train on 25000 samples, validate on 25000 samples\n",
      "Epoch 1/5\n",
      "25000/25000 [==============================] - 472s - loss: 0.6786 - acc: 0.6960 - val_loss: 0.5369 - val_acc: 0.7978\n",
      "Epoch 2/5\n",
      "25000/25000 [==============================] - 472s - loss: 0.6753 - acc: 0.7683 - val_loss: 0.5256 - val_acc: 0.8532\n",
      "Epoch 3/5\n",
      "25000/25000 [==============================] - 474s - loss: 0.6097 - acc: 0.8373 - val_loss: 0.4548 - val_acc: 0.8810\n",
      "Epoch 4/5\n",
      "25000/25000 [==============================] - 471s - loss: 0.5656 - acc: 0.8687 - val_loss: 0.4397 - val_acc: 0.8863\n",
      "Epoch 5/5\n",
      "25000/25000 [==============================] - 474s - loss: 0.5565 - acc: 0.8723 - val_loss: 0.4313 - val_acc: 0.8911\n",
      "19 40 60 1e-05 0.2\n",
      "Train on 25000 samples, validate on 25000 samples\n",
      "Epoch 1/5\n",
      "25000/25000 [==============================] - 456s - loss: 0.5265 - acc: 0.7531 - val_loss: 0.4198 - val_acc: 0.8350\n",
      "Epoch 2/5\n",
      "25000/25000 [==============================] - 455s - loss: 0.3870 - acc: 0.8473 - val_loss: 0.3374 - val_acc: 0.8748\n",
      "Epoch 3/5\n",
      "25000/25000 [==============================] - 453s - loss: 0.2967 - acc: 0.9028 - val_loss: 0.3195 - val_acc: 0.8903\n",
      "Epoch 4/5\n",
      "25000/25000 [==============================] - 456s - loss: 0.2687 - acc: 0.9191 - val_loss: 0.3347 - val_acc: 0.8897\n",
      "Epoch 5/5\n",
      "25000/25000 [==============================] - 454s - loss: 0.2503 - acc: 0.9292 - val_loss: 0.3526 - val_acc: 0.8887\n"
     ]
    }
   ],
   "source": [
    "for i in range(K):\n",
    "    [u, emb, reg, d]  = [parm_list[name][i] for name in list_names]\n",
    "    print(i, u, emb, reg, d)\n",
    "    model = get_LSTM_model(units=u, embeding_size=emb, emb_reg=reg, dropout=d)\n",
    "    fc_cos(model, steps_per_epoch, nc=1, cl=5, lr=0.01)"
   ]
  },
  {
   "cell_type": "code",
   "execution_count": null,
   "metadata": {
    "collapsed": true
   },
   "outputs": [],
   "source": []
  }
 ],
 "metadata": {
  "kernelspec": {
   "display_name": "Python 3",
   "language": "python",
   "name": "python3"
  }
 },
 "nbformat": 4,
 "nbformat_minor": 2
}
