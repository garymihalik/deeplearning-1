{
 "cells": [
  {
   "cell_type": "markdown",
   "metadata": {},
   "source": [
    "# LSTM for sequence classification"
   ]
  },
  {
   "cell_type": "code",
   "execution_count": 1,
   "metadata": {},
   "outputs": [
    {
     "name": "stderr",
     "output_type": "stream",
     "text": [
      "Using TensorFlow backend.\n"
     ]
    }
   ],
   "source": [
    "%matplotlib inline\n",
    "import lstm_utils\n",
    "import importlib\n",
    "importlib.reload(lstm_utils)\n",
    "from lstm_utils import *\n",
    "import sgdr\n",
    "importlib.reload(sgdr)\n",
    "from sgdr import *"
   ]
  },
  {
   "cell_type": "markdown",
   "metadata": {},
   "source": [
    "## Loading the IMDB dataset"
   ]
  },
  {
   "cell_type": "markdown",
   "metadata": {},
   "source": [
    "We're going to look at the IMDB dataset, which contains movie reviews from IMDB, along with their sentiment. Keras comes with some helpers for this dataset."
   ]
  },
  {
   "cell_type": "code",
   "execution_count": 2,
   "metadata": {
    "collapsed": true
   },
   "outputs": [],
   "source": [
    "from keras.datasets import imdb\n",
    "# fix random seed for reproducibility\n",
    "np.random.seed(3)\n",
    "# load the dataset but only keep the top n words, zero the rest\n",
    "top_words = 5000\n",
    "(X_train, y_train), (X_test, y_test) = imdb.load_data(num_words=top_words)\n",
    "# truncate and pad input sequences\n",
    "max_review_length = 500"
   ]
  },
  {
   "cell_type": "code",
   "execution_count": 3,
   "metadata": {
    "collapsed": true
   },
   "outputs": [],
   "source": [
    "#X_train[0]"
   ]
  },
  {
   "cell_type": "code",
   "execution_count": 4,
   "metadata": {
    "collapsed": true
   },
   "outputs": [],
   "source": [
    "trn = sequence.pad_sequences(X_train, maxlen=max_review_length)\n",
    "test = sequence.pad_sequences(X_test, maxlen=max_review_length)"
   ]
  },
  {
   "cell_type": "code",
   "execution_count": 5,
   "metadata": {},
   "outputs": [
    {
     "data": {
      "text/plain": [
       "['the', 'and', 'a', 'of', 'to', 'is', 'br', 'in', 'it', 'i']"
      ]
     },
     "execution_count": 5,
     "metadata": {},
     "output_type": "execute_result"
    }
   ],
   "source": [
    "idx = imdb.get_word_index()\n",
    "idx_arr = sorted(idx, key=idx.get)\n",
    "idx_arr[:10]"
   ]
  },
  {
   "cell_type": "markdown",
   "metadata": {},
   "source": [
    "...and this is the mapping from id to word"
   ]
  },
  {
   "cell_type": "code",
   "execution_count": 6,
   "metadata": {
    "collapsed": true
   },
   "outputs": [],
   "source": [
    "idx2word = {v: k for k, v in idx.items()}"
   ]
  },
  {
   "cell_type": "markdown",
   "metadata": {
    "collapsed": true
   },
   "source": [
    "# Defining the model"
   ]
  },
  {
   "cell_type": "code",
   "execution_count": 7,
   "metadata": {
    "collapsed": true
   },
   "outputs": [],
   "source": [
    "# getting pretrained word embeddings \n",
    "#The pickled files from fast.ai are not working. I pickled them again and worked\n",
    "#glove_path = get_glove_dataset()"
   ]
  },
  {
   "cell_type": "code",
   "execution_count": 8,
   "metadata": {
    "collapsed": true
   },
   "outputs": [],
   "source": [
    "glove_path = \"/data/yinterian/Glove/6B.50d\""
   ]
  },
  {
   "cell_type": "markdown",
   "metadata": {},
   "source": [
    "This function creates an array of work embeddings for our IMDB datset. It is using Glove embedings. You can find more about Glove embeddings here:\n",
    "https://nlp.stanford.edu/projects/glove/"
   ]
  },
  {
   "cell_type": "code",
   "execution_count": 9,
   "metadata": {
    "collapsed": true
   },
   "outputs": [],
   "source": [
    "emb = create_emb(top_words, glove_path, idx2word)"
   ]
  },
  {
   "cell_type": "code",
   "execution_count": 10,
   "metadata": {},
   "outputs": [
    {
     "data": {
      "text/plain": [
       "(5000, 50)"
      ]
     },
     "execution_count": 10,
     "metadata": {},
     "output_type": "execute_result"
    }
   ],
   "source": [
    "emb.shape"
   ]
  },
  {
   "cell_type": "markdown",
   "metadata": {},
   "source": [
    "try recurrent_dropout=0.2"
   ]
  },
  {
   "cell_type": "code",
   "execution_count": 11,
   "metadata": {
    "collapsed": true
   },
   "outputs": [],
   "source": [
    "vocab_size = top_words\n",
    "seq_len = max_review_length\n",
    "\n",
    "inputs = Input(shape=(seq_len,), dtype='int32')\n",
    "x = Embedding(vocab_size, 50, input_length=seq_len, mask_zero=True,\n",
    "              weights=[emb], embeddings_regularizer=regularizers.l2(1e-5))(inputs)\n",
    "x = Dropout(0.2)(x)\n",
    "x = LSTM(100, implementation=2)(x)\n",
    "x = Dense(1, activation='sigmoid')(x)\n",
    "model = Model(inputs=inputs, outputs=x)\n",
    "model.compile(loss='binary_crossentropy', optimizer='adam', metrics=['accuracy'])"
   ]
  },
  {
   "cell_type": "code",
   "execution_count": 73,
   "metadata": {},
   "outputs": [
    {
     "name": "stdout",
     "output_type": "stream",
     "text": [
      "Train on 25000 samples, validate on 25000 samples\n",
      "Epoch 1/5\n",
      "25000/25000 [==============================] - 282s - loss: 0.6277 - acc: 0.7202 - val_loss: 0.4481 - val_acc: 0.8454\n",
      "Epoch 2/5\n",
      "25000/25000 [==============================] - 283s - loss: 0.4012 - acc: 0.8680 - val_loss: 0.4078 - val_acc: 0.8643\n",
      "Epoch 3/5\n",
      "25000/25000 [==============================] - 279s - loss: 0.3453 - acc: 0.8956 - val_loss: 0.4053 - val_acc: 0.8619\n",
      "Epoch 4/5\n",
      "25000/25000 [==============================] - 279s - loss: 0.3018 - acc: 0.9102 - val_loss: 0.3855 - val_acc: 0.8696\n",
      "Epoch 5/5\n",
      "25000/25000 [==============================] - 281s - loss: 0.2688 - acc: 0.9240 - val_loss: 0.3978 - val_acc: 0.8577\n"
     ]
    },
    {
     "data": {
      "text/plain": [
       "<keras.callbacks.History at 0x7fd90c051f28>"
      ]
     },
     "execution_count": 73,
     "metadata": {},
     "output_type": "execute_result"
    }
   ],
   "source": [
    "model.fit(trn, y_train, validation_data=(test, y_test), epochs=5, batch_size=64)"
   ]
  },
  {
   "cell_type": "code",
   "execution_count": 74,
   "metadata": {},
   "outputs": [
    {
     "data": {
      "text/plain": [
       "<tf.Tensor 'Assign_79:0' shape=() dtype=float32_ref>"
      ]
     },
     "execution_count": 74,
     "metadata": {},
     "output_type": "execute_result"
    }
   ],
   "source": [
    "model.optimizer.lr.assign(0.0001)"
   ]
  },
  {
   "cell_type": "code",
   "execution_count": 75,
   "metadata": {},
   "outputs": [
    {
     "name": "stdout",
     "output_type": "stream",
     "text": [
      "Train on 25000 samples, validate on 25000 samples\n",
      "Epoch 1/2\n",
      "25000/25000 [==============================] - 283s - loss: 0.2491 - acc: 0.9292 - val_loss: 0.3987 - val_acc: 0.8772\n",
      "Epoch 2/2\n",
      "25000/25000 [==============================] - 283s - loss: 0.2191 - acc: 0.9431 - val_loss: 0.4002 - val_acc: 0.8727\n"
     ]
    },
    {
     "data": {
      "text/plain": [
       "<keras.callbacks.History at 0x7fd90c051d68>"
      ]
     },
     "execution_count": 75,
     "metadata": {},
     "output_type": "execute_result"
    }
   ],
   "source": [
    "model.fit(trn, y_train, validation_data=(test, y_test), epochs=2, batch_size=64)"
   ]
  },
  {
   "cell_type": "code",
   "execution_count": 49,
   "metadata": {
    "collapsed": true
   },
   "outputs": [],
   "source": [
    "batch_size=64\n",
    "steps_per_epoch = math.ceil(25000/batch_size)"
   ]
  },
  {
   "cell_type": "code",
   "execution_count": 101,
   "metadata": {
    "collapsed": true
   },
   "outputs": [],
   "source": [
    "# without pretrined embedings\n",
    "vocab_size = top_words\n",
    "seq_len = max_review_length\n",
    "\n",
    "inputs = Input(shape=(seq_len,), dtype='int32')\n",
    "x = Embedding(vocab_size, 20, input_length=seq_len, mask_zero=True,\n",
    "              embeddings_regularizer=regularizers.l2(1e-4))(inputs)\n",
    "x = Dropout(0.25)(x)\n",
    "x = LSTM(100, implementation=2)(x)\n",
    "x = Dense(1, activation='sigmoid')(x)\n",
    "model2 = Model(inputs=inputs, outputs=x)\n",
    "model2.compile(loss='binary_crossentropy', optimizer='adam', metrics=['accuracy'])"
   ]
  },
  {
   "cell_type": "code",
   "execution_count": 102,
   "metadata": {},
   "outputs": [
    {
     "data": {
      "text/plain": [
       "<tf.Tensor 'Assign_159:0' shape=() dtype=float32_ref>"
      ]
     },
     "execution_count": 102,
     "metadata": {},
     "output_type": "execute_result"
    }
   ],
   "source": [
    "# found this with LR_Finder\n",
    "model2.optimizer.lr.assign(0.01)"
   ]
  },
  {
   "cell_type": "code",
   "execution_count": 103,
   "metadata": {},
   "outputs": [
    {
     "name": "stdout",
     "output_type": "stream",
     "text": [
      "Train on 25000 samples, validate on 25000 samples\n",
      "Epoch 1/2\n",
      "25000/25000 [==============================] - 467s - loss: 0.5486 - acc: 0.7142 - val_loss: 0.3861 - val_acc: 0.8429\n",
      "Epoch 2/2\n",
      "25000/25000 [==============================] - 466s - loss: 0.3373 - acc: 0.8696 - val_loss: 0.3280 - val_acc: 0.8704\n"
     ]
    },
    {
     "data": {
      "text/plain": [
       "<keras.callbacks.History at 0x7fd919fae5f8>"
      ]
     },
     "execution_count": 103,
     "metadata": {},
     "output_type": "execute_result"
    }
   ],
   "source": [
    "model2.fit(trn, y_train, validation_data=(test, y_test), epochs=2, batch_size=64)"
   ]
  },
  {
   "cell_type": "code",
   "execution_count": 104,
   "metadata": {},
   "outputs": [
    {
     "data": {
      "text/plain": [
       "<tf.Tensor 'Assign_178:0' shape=() dtype=float32_ref>"
      ]
     },
     "execution_count": 104,
     "metadata": {},
     "output_type": "execute_result"
    }
   ],
   "source": [
    "model2.optimizer.lr.assign(0.001)"
   ]
  },
  {
   "cell_type": "code",
   "execution_count": 105,
   "metadata": {},
   "outputs": [
    {
     "name": "stdout",
     "output_type": "stream",
     "text": [
      "Train on 25000 samples, validate on 25000 samples\n",
      "Epoch 1/2\n",
      "25000/25000 [==============================] - 464s - loss: 0.3181 - acc: 0.8810 - val_loss: 0.3461 - val_acc: 0.8672\n",
      "Epoch 2/2\n",
      "25000/25000 [==============================] - 467s - loss: 0.2924 - acc: 0.8935 - val_loss: 0.3524 - val_acc: 0.8641\n"
     ]
    },
    {
     "data": {
      "text/plain": [
       "<keras.callbacks.History at 0x7fd9cf8b5978>"
      ]
     },
     "execution_count": 105,
     "metadata": {},
     "output_type": "execute_result"
    }
   ],
   "source": [
    "model2.fit(trn, y_train, validation_data=(test, y_test), epochs=2, batch_size=64)"
   ]
  },
  {
   "cell_type": "markdown",
   "metadata": {
    "heading_collapsed": true
   },
   "source": [
    "## Learning Rate Finder"
   ]
  },
  {
   "cell_type": "code",
   "execution_count": 80,
   "metadata": {
    "hidden": true
   },
   "outputs": [
    {
     "name": "stdout",
     "output_type": "stream",
     "text": [
      "Train on 25000 samples, validate on 25000 samples\n",
      "Epoch 1/1\n",
      "25000/25000 [==============================] - 285s - loss: 18.6379 - acc: 0.5463 - val_loss: 235.2400 - val_acc: 0.4986\n"
     ]
    },
    {
     "data": {
      "text/plain": [
       "<keras.callbacks.History at 0x7fd91c619f98>"
      ]
     },
     "execution_count": 80,
     "metadata": {},
     "output_type": "execute_result"
    }
   ],
   "source": [
    "batch_size=64\n",
    "steps_per_epoch = math.ceil(25000/batch_size)\n",
    "cb = LR_Finder(steps_per_epoch, start_lr=1e-7, end_lr=10)\n",
    "model2.fit(trn, y_train, epochs=1, validation_data=(test, y_test), batch_size=batch_size, \n",
    "           callbacks=[cb], verbose=1)"
   ]
  },
  {
   "cell_type": "code",
   "execution_count": 84,
   "metadata": {
    "hidden": true
   },
   "outputs": [
    {
     "data": {
      "image/png": "[encoded data removed]",
      "text/plain": [
       "<matplotlib.figure.Figure at 0x7fd9082385c0>"
      ]
     },
     "metadata": {},
     "output_type": "display_data"
    }
   ],
   "source": [
    "%matplotlib inline\n",
    "plt.plot(cb.history['lr'], cb.losses)\n",
    "plt.ylim((0,2))\n",
    "plt.xscale('log');"
   ]
  },
  {
   "cell_type": "markdown",
   "metadata": {
    "heading_collapsed": true
   },
   "source": [
    "## Cosine Annealing"
   ]
  },
  {
   "cell_type": "code",
   "execution_count": 12,
   "metadata": {
    "collapsed": true,
    "hidden": true
   },
   "outputs": [],
   "source": [
    "vocab_size = top_words\n",
    "seq_len = max_review_length\n",
    "\n",
    "inputs = Input(shape=(seq_len,), dtype='int32')\n",
    "x = Embedding(vocab_size, 50, input_length=seq_len, mask_zero=True,\n",
    "              weights=[emb], embeddings_regularizer=regularizers.l2(1e-5))(inputs)\n",
    "x = Dropout(0.2)(x)\n",
    "x = LSTM(100, implementation=2)(x)\n",
    "x = Dense(1, activation='sigmoid')(x)\n",
    "model = Model(inputs=inputs, outputs=x)\n",
    "model.compile(loss='binary_crossentropy', optimizer='adam', metrics=['accuracy'])"
   ]
  },
  {
   "cell_type": "code",
   "execution_count": 13,
   "metadata": {
    "collapsed": true,
    "hidden": true
   },
   "outputs": [],
   "source": [
    "batch_size=64\n",
    "steps_per_epoch = math.ceil(25000/batch_size)\n",
    "def fc_cos(model, steps_per_epoch, nc,  cl, lr, tmult=1):\n",
    "    for i in range(nc):\n",
    "        cb = CosAnneal(steps_per_epoch, init_lr=lr)\n",
    "        model.fit(trn, y_train, validation_data=(test, y_test), epochs=cl,\n",
    "                         batch_size=64, callbacks=[cb])\n",
    "        cl *= tmult"
   ]
  },
  {
   "cell_type": "code",
   "execution_count": 117,
   "metadata": {
    "hidden": true
   },
   "outputs": [
    {
     "name": "stdout",
     "output_type": "stream",
     "text": [
      "Train on 25000 samples, validate on 25000 samples\n",
      "Epoch 1/5\n",
      "25000/25000 [==============================] - 463s - loss: 0.5282 - acc: 0.7648 - val_loss: 0.3989 - val_acc: 0.8488\n",
      "Epoch 2/5\n",
      "25000/25000 [==============================] - 465s - loss: 0.3745 - acc: 0.8672 - val_loss: 0.3577 - val_acc: 0.8766\n",
      "Epoch 3/5\n",
      "25000/25000 [==============================] - 464s - loss: 0.3230 - acc: 0.8972 - val_loss: 0.3537 - val_acc: 0.8830\n",
      "Epoch 4/5\n",
      "25000/25000 [==============================] - 467s - loss: 0.3076 - acc: 0.9092 - val_loss: 0.3609 - val_acc: 0.8847\n",
      "Epoch 5/5\n",
      "25000/25000 [==============================] - 466s - loss: 0.2872 - acc: 0.9198 - val_loss: 0.3692 - val_acc: 0.8890\n",
      "Train on 25000 samples, validate on 25000 samples\n",
      "Epoch 1/5\n",
      "25000/25000 [==============================] - 463s - loss: 0.2638 - acc: 0.9317 - val_loss: 0.3779 - val_acc: 0.8863\n",
      "Epoch 2/5\n",
      "25000/25000 [==============================] - 464s - loss: 0.2418 - acc: 0.9397 - val_loss: 0.3866 - val_acc: 0.8865\n",
      "Epoch 3/5\n",
      "25000/25000 [==============================] - 466s - loss: 0.2286 - acc: 0.9473 - val_loss: 0.4049 - val_acc: 0.8862\n",
      "Epoch 4/5\n",
      "25000/25000 [==============================] - 466s - loss: 0.2300 - acc: 0.9484 - val_loss: 0.4204 - val_acc: 0.8840\n",
      "Epoch 5/5\n",
      "25000/25000 [==============================] - 467s - loss: 0.2192 - acc: 0.9542 - val_loss: 0.4361 - val_acc: 0.8836\n",
      "Train on 25000 samples, validate on 25000 samples\n",
      "Epoch 1/5\n",
      "25000/25000 [==============================] - 465s - loss: 0.2132 - acc: 0.9568 - val_loss: 0.4483 - val_acc: 0.8869\n",
      "Epoch 2/5\n",
      "25000/25000 [==============================] - 463s - loss: 0.2030 - acc: 0.9609 - val_loss: 0.4563 - val_acc: 0.8838\n",
      "Epoch 3/5\n",
      "25000/25000 [==============================] - 462s - loss: 0.2168 - acc: 0.9579 - val_loss: 0.4651 - val_acc: 0.8831\n",
      "Epoch 4/5\n",
      "25000/25000 [==============================] - 462s - loss: 0.2085 - acc: 0.9617 - val_loss: 0.4807 - val_acc: 0.8831\n",
      "Epoch 5/5\n",
      "25000/25000 [==============================] - 461s - loss: 0.2025 - acc: 0.9656 - val_loss: 0.5047 - val_acc: 0.8813\n"
     ]
    }
   ],
   "source": [
    "# LSTM is a different beast, It keeps overfitting after lr restarts. \n",
    "fc_cos(model, steps_per_epoch, nc=3, cl=5, lr=0.01)"
   ]
  },
  {
   "cell_type": "markdown",
   "metadata": {},
   "source": [
    "## Random parameter search"
   ]
  },
  {
   "cell_type": "markdown",
   "metadata": {},
   "source": [
    "This model has many parameters. Here are some of them with their current defaul values\n",
    "* top_words (5000)\n",
    "* max_review_length (500)\n",
    "* Dropout value (0.2)\n",
    "* embeddings_regularizer (1e-5)\n",
    "* number of units in the LSTM (100)\n",
    "* size of the embeding (50)\n",
    "* start with a pre-trained embeding (we can use it for certain sizes)\n",
    "* optimization type (adam)\n",
    "* learning rates"
   ]
  },
  {
   "cell_type": "code",
   "execution_count": 14,
   "metadata": {
    "collapsed": true
   },
   "outputs": [],
   "source": [
    "units_arr = np.array([16, 24, 64, 128, 256])\n",
    "embeding_size_arr = np.array([16, 24, 64, 128])\n",
    "emb_reg_arr = np.array([1e-1, 1e-2, 1e-3, 1e-4, 1e-5, 1e-6])\n",
    "dropout_arr = np.array([0.0, 0.1, 0.2, 0.4])"
   ]
  },
  {
   "cell_type": "code",
   "execution_count": 15,
   "metadata": {
    "collapsed": true
   },
   "outputs": [],
   "source": [
    "import random \n",
    "K = 50\n",
    "list_arr = [units_arr, embeding_size_arr, emb_reg_arr, dropout_arr]\n",
    "list_names = [\"units\", \"embeding_size\", \"emb_reg\", \"dropout\"]\n",
    "parm_list = {}\n",
    "for l, name in zip(list_arr, list_names):\n",
    "    parm_list[name] = random.choices(l, k = K)"
   ]
  },
  {
   "cell_type": "code",
   "execution_count": 135,
   "metadata": {},
   "outputs": [
    {
     "name": "stdout",
     "output_type": "stream",
     "text": [
      "128 24 0.1 0.2\n"
     ]
    }
   ],
   "source": [
    "i = 10\n",
    "[u, emb, reg, d]  = [parm_list[name][i] for name in list_names]\n",
    "print(u, emb, reg, d)\n",
    "model = get_LSTM_model(units=u, embeding_size=emb, emb_reg=reg, dropout=d)"
   ]
  },
  {
   "cell_type": "code",
   "execution_count": null,
   "metadata": {
    "collapsed": true
   },
   "outputs": [],
   "source": []
  },
  {
   "cell_type": "code",
   "execution_count": 16,
   "metadata": {},
   "outputs": [
    {
     "name": "stdout",
     "output_type": "stream",
     "text": [
      "16 16 0.0001 0.0\n",
      "Train on 25000 samples, validate on 25000 samples\n",
      "Epoch 1/5\n",
      "25000/25000 [==============================] - 373s - loss: 0.5449 - acc: 0.7540 - val_loss: 0.4557 - val_acc: 0.8271\n",
      "Epoch 2/5\n",
      "25000/25000 [==============================] - 372s - loss: 0.6700 - acc: 0.6638 - val_loss: 0.7265 - val_acc: 0.5821\n",
      "Epoch 3/5\n",
      "25000/25000 [==============================] - 371s - loss: 0.5224 - acc: 0.7854 - val_loss: 0.4221 - val_acc: 0.8597\n",
      "Epoch 4/5\n",
      "25000/25000 [==============================] - 372s - loss: 0.3895 - acc: 0.8788 - val_loss: 0.3791 - val_acc: 0.8772\n",
      "Epoch 5/5\n",
      "25000/25000 [==============================] - 372s - loss: 0.3427 - acc: 0.8965 - val_loss: 0.3594 - val_acc: 0.8838\n",
      "23 64 0.001 0.4\n",
      "Train on 25000 samples, validate on 25000 samples\n",
      "Epoch 1/5\n",
      "25000/25000 [==============================] - 394s - loss: 0.7028 - acc: 0.6976 - val_loss: 0.5695 - val_acc: 0.7938\n",
      "Epoch 2/5\n",
      "25000/25000 [==============================] - 386s - loss: 0.7095 - acc: 0.7778 - val_loss: 0.5498 - val_acc: 0.8438\n",
      "Epoch 3/5\n",
      "25000/25000 [==============================] - 382s - loss: 0.5955 - acc: 0.8530 - val_loss: 0.4200 - val_acc: 0.8830\n",
      "Epoch 4/5\n",
      "25000/25000 [==============================] - 382s - loss: 0.5660 - acc: 0.8719 - val_loss: 0.4110 - val_acc: 0.8918\n",
      "Epoch 5/5\n",
      "25000/25000 [==============================] - 383s - loss: 0.5432 - acc: 0.8753 - val_loss: 0.4020 - val_acc: 0.8943\n",
      "23 128 0.01 0.4\n",
      "Train on 25000 samples, validate on 25000 samples\n",
      "Epoch 1/5\n",
      "25000/25000 [==============================] - 396s - loss: 0.8661 - acc: 0.6688 - val_loss: 0.6253 - val_acc: 0.7900\n",
      "Epoch 2/5\n",
      "25000/25000 [==============================] - 396s - loss: 0.8769 - acc: 0.7435 - val_loss: 0.5738 - val_acc: 0.8329\n",
      "Epoch 3/5\n",
      "25000/25000 [==============================] - 395s - loss: 1.2696 - acc: 0.7160 - val_loss: 1.0011 - val_acc: 0.8147\n",
      "Epoch 4/5\n",
      "25000/25000 [==============================] - 398s - loss: 1.3683 - acc: 0.7146 - val_loss: 0.9838 - val_acc: 0.7205\n",
      "Epoch 5/5\n",
      "25000/25000 [==============================] - 396s - loss: 1.2949 - acc: 0.7466 - val_loss: 0.7640 - val_acc: 0.8255\n",
      "64 64 1e-05 0.4\n",
      "Train on 25000 samples, validate on 25000 samples\n",
      "Epoch 1/5\n",
      "25000/25000 [==============================] - 415s - loss: 0.4892 - acc: 0.7735 - val_loss: 0.3420 - val_acc: 0.8666\n",
      "Epoch 2/5\n",
      "25000/25000 [==============================] - 416s - loss: 0.3407 - acc: 0.8779 - val_loss: 0.3195 - val_acc: 0.8894\n",
      "Epoch 3/5\n",
      "25000/25000 [==============================] - 416s - loss: 0.2871 - acc: 0.9113 - val_loss: 0.3263 - val_acc: 0.8938\n",
      "Epoch 4/5\n",
      "25000/25000 [==============================] - 417s - loss: 0.2790 - acc: 0.9208 - val_loss: 0.3508 - val_acc: 0.8930\n",
      "Epoch 5/5\n",
      "25000/25000 [==============================] - 417s - loss: 0.2637 - acc: 0.9308 - val_loss: 0.3659 - val_acc: 0.8913\n",
      "16 64 0.1 0.4\n",
      "Train on 25000 samples, validate on 25000 samples\n",
      "Epoch 1/5\n",
      "25000/25000 [==============================] - 369s - loss: 1.0708 - acc: 0.5608 - val_loss: 0.6649 - val_acc: 0.6760\n",
      "Epoch 2/5\n",
      "25000/25000 [==============================] - 369s - loss: 0.8500 - acc: 0.5602 - val_loss: 0.7328 - val_acc: 0.5654\n",
      "Epoch 3/5\n",
      "25000/25000 [==============================] - 367s - loss: 0.9249 - acc: 0.6305 - val_loss: 0.6477 - val_acc: 0.7539\n",
      "Epoch 4/5\n",
      "25000/25000 [==============================] - 369s - loss: 0.9358 - acc: 0.5778 - val_loss: 0.7073 - val_acc: 0.5740\n",
      "Epoch 5/5\n",
      "25000/25000 [==============================] - 367s - loss: 0.9111 - acc: 0.5700 - val_loss: 0.6965 - val_acc: 0.5651\n",
      "64 24 0.0001 0.0\n",
      "Train on 25000 samples, validate on 25000 samples\n",
      "Epoch 1/5\n",
      "25000/25000 [==============================] - 410s - loss: 0.6064 - acc: 0.7044 - val_loss: 0.5305 - val_acc: 0.7659\n",
      "Epoch 2/5\n",
      "25000/25000 [==============================] - 411s - loss: 0.5080 - acc: 0.7951 - val_loss: 0.3833 - val_acc: 0.8672\n",
      "Epoch 3/5\n",
      "25000/25000 [==============================] - 412s - loss: 0.3673 - acc: 0.8842 - val_loss: 0.3429 - val_acc: 0.8888\n",
      "Epoch 4/5\n",
      "25000/25000 [==============================] - 412s - loss: 0.3320 - acc: 0.9024 - val_loss: 0.3346 - val_acc: 0.8943\n",
      "Epoch 5/5\n",
      "25000/25000 [==============================] - 412s - loss: 0.3171 - acc: 0.9098 - val_loss: 0.3388 - val_acc: 0.8942\n",
      "64 24 0.001 0.2\n",
      "Train on 25000 samples, validate on 25000 samples\n",
      "Epoch 1/5\n",
      "25000/25000 [==============================] - 409s - loss: 0.6494 - acc: 0.7140 - val_loss: 0.5541 - val_acc: 0.7884\n",
      "Epoch 2/5\n",
      "25000/25000 [==============================] - 411s - loss: 0.6457 - acc: 0.7466 - val_loss: 0.5048 - val_acc: 0.8380\n",
      "Epoch 3/5\n",
      "25000/25000 [==============================] - 411s - loss: 0.5229 - acc: 0.8545 - val_loss: 0.3917 - val_acc: 0.8860\n",
      "Epoch 4/5\n",
      "25000/25000 [==============================] - 412s - loss: 0.4621 - acc: 0.8744 - val_loss: 0.3676 - val_acc: 0.8903\n",
      "Epoch 5/5\n",
      "25000/25000 [==============================] - 411s - loss: 0.4453 - acc: 0.8829 - val_loss: 0.3672 - val_acc: 0.8956\n",
      "256 128 0.1 0.1\n",
      "Train on 25000 samples, validate on 25000 samples\n",
      "Epoch 1/5\n",
      "25000/25000 [==============================] - 516s - loss: 1.4068 - acc: 0.5026 - val_loss: 0.6937 - val_acc: 0.5000\n",
      "Epoch 2/5\n",
      "25000/25000 [==============================] - 513s - loss: 0.6953 - acc: 0.4992 - val_loss: 0.6935 - val_acc: 0.5000\n",
      "Epoch 3/5\n",
      "25000/25000 [==============================] - 514s - loss: 0.6944 - acc: 0.5014 - val_loss: 0.6932 - val_acc: 0.5000\n",
      "Epoch 4/5\n",
      "25000/25000 [==============================] - 514s - loss: 0.6947 - acc: 0.4995 - val_loss: 0.6933 - val_acc: 0.5000\n",
      "Epoch 5/5\n",
      "25000/25000 [==============================] - 515s - loss: 0.6949 - acc: 0.4984 - val_loss: 0.6932 - val_acc: 0.4999\n",
      "16 24 0.1 0.4\n",
      "Train on 25000 samples, validate on 25000 samples\n",
      "Epoch 1/5\n",
      "25000/25000 [==============================] - 366s - loss: 0.8267 - acc: 0.5103 - val_loss: 0.6932 - val_acc: 0.5369\n",
      "Epoch 2/5\n",
      "25000/25000 [==============================] - 366s - loss: 1.0494 - acc: 0.5076 - val_loss: 0.7826 - val_acc: 0.5000\n",
      "Epoch 3/5\n",
      "25000/25000 [==============================] - 366s - loss: 0.7188 - acc: 0.4989 - val_loss: 0.7051 - val_acc: 0.5019\n",
      "Epoch 4/5\n",
      "25000/25000 [==============================] - 373s - loss: 0.6997 - acc: 0.4970 - val_loss: 0.6959 - val_acc: 0.5002\n",
      "Epoch 5/5\n",
      "25000/25000 [==============================] - 368s - loss: 0.6977 - acc: 0.5136 - val_loss: 0.6937 - val_acc: 0.5497\n",
      "64 24 1e-06 0.1\n",
      "Train on 25000 samples, validate on 25000 samples\n",
      "Epoch 1/5\n",
      "25000/25000 [==============================] - 412s - loss: 0.5456 - acc: 0.7206 - val_loss: 0.4827 - val_acc: 0.7717\n",
      "Epoch 2/5\n",
      "25000/25000 [==============================] - 416s - loss: 0.3630 - acc: 0.8450 - val_loss: 0.3244 - val_acc: 0.8655\n",
      "Epoch 3/5\n",
      "25000/25000 [==============================] - 474s - loss: 0.2813 - acc: 0.8868 - val_loss: 0.2918 - val_acc: 0.8812\n",
      "Epoch 4/5\n",
      "25000/25000 [==============================] - 423s - loss: 0.2321 - acc: 0.9122 - val_loss: 0.2866 - val_acc: 0.8860\n",
      "Epoch 5/5\n",
      "25000/25000 [==============================] - 412s - loss: 0.2018 - acc: 0.9251 - val_loss: 0.2934 - val_acc: 0.8865\n",
      "256 128 0.001 0.1\n",
      "Train on 25000 samples, validate on 25000 samples\n",
      "Epoch 1/5\n",
      "25000/25000 [==============================] - 517s - loss: 1.9284 - acc: 0.5184 - val_loss: 2.0940 - val_acc: 0.5356\n",
      "Epoch 2/5\n",
      "25000/25000 [==============================] - 517s - loss: 2.0368 - acc: 0.5304 - val_loss: 1.9963 - val_acc: 0.5408\n",
      "Epoch 3/5\n",
      "25000/25000 [==============================] - 516s - loss: 1.9710 - acc: 0.5364 - val_loss: 1.9417 - val_acc: 0.5403\n",
      "Epoch 4/5\n",
      "25000/25000 [==============================] - 517s - loss: 1.9339 - acc: 0.5391 - val_loss: 1.9018 - val_acc: 0.5556\n",
      "Epoch 5/5\n",
      "25000/25000 [==============================] - 518s - loss: 1.8993 - acc: 0.5510 - val_loss: 1.8699 - val_acc: 0.5578\n",
      "64 24 0.0001 0.1\n",
      "Train on 25000 samples, validate on 25000 samples\n",
      "Epoch 1/5\n",
      "25000/25000 [==============================] - 410s - loss: 0.5644 - acc: 0.7378 - val_loss: 0.4477 - val_acc: 0.8296\n",
      "Epoch 2/5\n",
      "25000/25000 [==============================] - 410s - loss: 0.5033 - acc: 0.8100 - val_loss: 0.4385 - val_acc: 0.8496\n",
      "Epoch 3/5\n"
     ]
    },
    {
     "name": "stdout",
     "output_type": "stream",
     "text": [
      "25000/25000 [==============================] - 409s - loss: 0.4944 - acc: 0.8123 - val_loss: 0.4067 - val_acc: 0.8642\n",
      "Epoch 4/5\n",
      "25000/25000 [==============================] - 410s - loss: 0.4525 - acc: 0.8431 - val_loss: 0.3975 - val_acc: 0.8710\n",
      "Epoch 5/5\n",
      "25000/25000 [==============================] - 410s - loss: 0.3759 - acc: 0.8885 - val_loss: 0.3766 - val_acc: 0.8850\n",
      "64 128 0.01 0.1\n",
      "Train on 25000 samples, validate on 25000 samples\n",
      "Epoch 1/5\n",
      "25000/25000 [==============================] - 419s - loss: 0.8437 - acc: 0.6155 - val_loss: 0.6550 - val_acc: 0.6622\n",
      "Epoch 2/5\n",
      "25000/25000 [==============================] - 419s - loss: 0.8565 - acc: 0.6586 - val_loss: 0.8046 - val_acc: 0.5966\n",
      "Epoch 3/5\n",
      "22656/25000 [==========================>...] - ETA: 26s - loss: 0.9469 - acc: 0.6640"
     ]
    },
    {
     "ename": "KeyboardInterrupt",
     "evalue": "",
     "output_type": "error",
     "traceback": [
      "\u001b[0;31m---------------------------------------------------------------------------\u001b[0m",
      "\u001b[0;31mKeyboardInterrupt\u001b[0m                         Traceback (most recent call last)",
      "\u001b[0;32m<ipython-input-16-090e503f5860>\u001b[0m in \u001b[0;36m<module>\u001b[0;34m()\u001b[0m\n\u001b[1;32m      3\u001b[0m     \u001b[0mprint\u001b[0m\u001b[0;34m(\u001b[0m\u001b[0mu\u001b[0m\u001b[0;34m,\u001b[0m \u001b[0memb\u001b[0m\u001b[0;34m,\u001b[0m \u001b[0mreg\u001b[0m\u001b[0;34m,\u001b[0m \u001b[0md\u001b[0m\u001b[0;34m)\u001b[0m\u001b[0;34m\u001b[0m\u001b[0m\n\u001b[1;32m      4\u001b[0m     \u001b[0mmodel\u001b[0m \u001b[0;34m=\u001b[0m \u001b[0mget_LSTM_model\u001b[0m\u001b[0;34m(\u001b[0m\u001b[0munits\u001b[0m\u001b[0;34m=\u001b[0m\u001b[0mu\u001b[0m\u001b[0;34m,\u001b[0m \u001b[0membeding_size\u001b[0m\u001b[0;34m=\u001b[0m\u001b[0memb\u001b[0m\u001b[0;34m,\u001b[0m \u001b[0memb_reg\u001b[0m\u001b[0;34m=\u001b[0m\u001b[0mreg\u001b[0m\u001b[0;34m,\u001b[0m \u001b[0mdropout\u001b[0m\u001b[0;34m=\u001b[0m\u001b[0md\u001b[0m\u001b[0;34m)\u001b[0m\u001b[0;34m\u001b[0m\u001b[0m\n\u001b[0;32m----> 5\u001b[0;31m     \u001b[0mfc_cos\u001b[0m\u001b[0;34m(\u001b[0m\u001b[0mmodel\u001b[0m\u001b[0;34m,\u001b[0m \u001b[0msteps_per_epoch\u001b[0m\u001b[0;34m,\u001b[0m \u001b[0mnc\u001b[0m\u001b[0;34m=\u001b[0m\u001b[0;36m1\u001b[0m\u001b[0;34m,\u001b[0m \u001b[0mcl\u001b[0m\u001b[0;34m=\u001b[0m\u001b[0;36m5\u001b[0m\u001b[0;34m,\u001b[0m \u001b[0mlr\u001b[0m\u001b[0;34m=\u001b[0m\u001b[0;36m0.01\u001b[0m\u001b[0;34m)\u001b[0m\u001b[0;34m\u001b[0m\u001b[0m\n\u001b[0m",
      "\u001b[0;32m<ipython-input-13-9dd36f2449fd>\u001b[0m in \u001b[0;36mfc_cos\u001b[0;34m(model, steps_per_epoch, nc, cl, lr, tmult)\u001b[0m\n\u001b[1;32m      5\u001b[0m         \u001b[0mcb\u001b[0m \u001b[0;34m=\u001b[0m \u001b[0mCosAnneal\u001b[0m\u001b[0;34m(\u001b[0m\u001b[0msteps_per_epoch\u001b[0m\u001b[0;34m,\u001b[0m \u001b[0minit_lr\u001b[0m\u001b[0;34m=\u001b[0m\u001b[0mlr\u001b[0m\u001b[0;34m)\u001b[0m\u001b[0;34m\u001b[0m\u001b[0m\n\u001b[1;32m      6\u001b[0m         model.fit(trn, y_train, validation_data=(test, y_test), epochs=cl,\n\u001b[0;32m----> 7\u001b[0;31m                          batch_size=64, callbacks=[cb])\n\u001b[0m\u001b[1;32m      8\u001b[0m         \u001b[0mcl\u001b[0m \u001b[0;34m*=\u001b[0m \u001b[0mtmult\u001b[0m\u001b[0;34m\u001b[0m\u001b[0m\n",
      "\u001b[0;32m~/anaconda/lib/python3.6/site-packages/keras/engine/training.py\u001b[0m in \u001b[0;36mfit\u001b[0;34m(self, x, y, batch_size, epochs, verbose, callbacks, validation_split, validation_data, shuffle, class_weight, sample_weight, initial_epoch, **kwargs)\u001b[0m\n\u001b[1;32m   1483\u001b[0m                               \u001b[0mval_f\u001b[0m\u001b[0;34m=\u001b[0m\u001b[0mval_f\u001b[0m\u001b[0;34m,\u001b[0m \u001b[0mval_ins\u001b[0m\u001b[0;34m=\u001b[0m\u001b[0mval_ins\u001b[0m\u001b[0;34m,\u001b[0m \u001b[0mshuffle\u001b[0m\u001b[0;34m=\u001b[0m\u001b[0mshuffle\u001b[0m\u001b[0;34m,\u001b[0m\u001b[0;34m\u001b[0m\u001b[0m\n\u001b[1;32m   1484\u001b[0m                               \u001b[0mcallback_metrics\u001b[0m\u001b[0;34m=\u001b[0m\u001b[0mcallback_metrics\u001b[0m\u001b[0;34m,\u001b[0m\u001b[0;34m\u001b[0m\u001b[0m\n\u001b[0;32m-> 1485\u001b[0;31m                               initial_epoch=initial_epoch)\n\u001b[0m\u001b[1;32m   1486\u001b[0m \u001b[0;34m\u001b[0m\u001b[0m\n\u001b[1;32m   1487\u001b[0m     \u001b[0;32mdef\u001b[0m \u001b[0mevaluate\u001b[0m\u001b[0;34m(\u001b[0m\u001b[0mself\u001b[0m\u001b[0;34m,\u001b[0m \u001b[0mx\u001b[0m\u001b[0;34m,\u001b[0m \u001b[0my\u001b[0m\u001b[0;34m,\u001b[0m \u001b[0mbatch_size\u001b[0m\u001b[0;34m=\u001b[0m\u001b[0;36m32\u001b[0m\u001b[0;34m,\u001b[0m \u001b[0mverbose\u001b[0m\u001b[0;34m=\u001b[0m\u001b[0;36m1\u001b[0m\u001b[0;34m,\u001b[0m \u001b[0msample_weight\u001b[0m\u001b[0;34m=\u001b[0m\u001b[0;32mNone\u001b[0m\u001b[0;34m)\u001b[0m\u001b[0;34m:\u001b[0m\u001b[0;34m\u001b[0m\u001b[0m\n",
      "\u001b[0;32m~/anaconda/lib/python3.6/site-packages/keras/engine/training.py\u001b[0m in \u001b[0;36m_fit_loop\u001b[0;34m(self, f, ins, out_labels, batch_size, epochs, verbose, callbacks, val_f, val_ins, shuffle, callback_metrics, initial_epoch)\u001b[0m\n\u001b[1;32m   1138\u001b[0m                 \u001b[0mbatch_logs\u001b[0m\u001b[0;34m[\u001b[0m\u001b[0;34m'size'\u001b[0m\u001b[0;34m]\u001b[0m \u001b[0;34m=\u001b[0m \u001b[0mlen\u001b[0m\u001b[0;34m(\u001b[0m\u001b[0mbatch_ids\u001b[0m\u001b[0;34m)\u001b[0m\u001b[0;34m\u001b[0m\u001b[0m\n\u001b[1;32m   1139\u001b[0m                 \u001b[0mcallbacks\u001b[0m\u001b[0;34m.\u001b[0m\u001b[0mon_batch_begin\u001b[0m\u001b[0;34m(\u001b[0m\u001b[0mbatch_index\u001b[0m\u001b[0;34m,\u001b[0m \u001b[0mbatch_logs\u001b[0m\u001b[0;34m)\u001b[0m\u001b[0;34m\u001b[0m\u001b[0m\n\u001b[0;32m-> 1140\u001b[0;31m                 \u001b[0mouts\u001b[0m \u001b[0;34m=\u001b[0m \u001b[0mf\u001b[0m\u001b[0;34m(\u001b[0m\u001b[0mins_batch\u001b[0m\u001b[0;34m)\u001b[0m\u001b[0;34m\u001b[0m\u001b[0m\n\u001b[0m\u001b[1;32m   1141\u001b[0m                 \u001b[0;32mif\u001b[0m \u001b[0;32mnot\u001b[0m \u001b[0misinstance\u001b[0m\u001b[0;34m(\u001b[0m\u001b[0mouts\u001b[0m\u001b[0;34m,\u001b[0m \u001b[0mlist\u001b[0m\u001b[0;34m)\u001b[0m\u001b[0;34m:\u001b[0m\u001b[0;34m\u001b[0m\u001b[0m\n\u001b[1;32m   1142\u001b[0m                     \u001b[0mouts\u001b[0m \u001b[0;34m=\u001b[0m \u001b[0;34m[\u001b[0m\u001b[0mouts\u001b[0m\u001b[0;34m]\u001b[0m\u001b[0;34m\u001b[0m\u001b[0m\n",
      "\u001b[0;32m~/anaconda/lib/python3.6/site-packages/keras/backend/tensorflow_backend.py\u001b[0m in \u001b[0;36m__call__\u001b[0;34m(self, inputs)\u001b[0m\n\u001b[1;32m   2071\u001b[0m         \u001b[0msession\u001b[0m \u001b[0;34m=\u001b[0m \u001b[0mget_session\u001b[0m\u001b[0;34m(\u001b[0m\u001b[0;34m)\u001b[0m\u001b[0;34m\u001b[0m\u001b[0m\n\u001b[1;32m   2072\u001b[0m         updated = session.run(self.outputs + [self.updates_op],\n\u001b[0;32m-> 2073\u001b[0;31m                               feed_dict=feed_dict)\n\u001b[0m\u001b[1;32m   2074\u001b[0m         \u001b[0;32mreturn\u001b[0m \u001b[0mupdated\u001b[0m\u001b[0;34m[\u001b[0m\u001b[0;34m:\u001b[0m\u001b[0mlen\u001b[0m\u001b[0;34m(\u001b[0m\u001b[0mself\u001b[0m\u001b[0;34m.\u001b[0m\u001b[0moutputs\u001b[0m\u001b[0;34m)\u001b[0m\u001b[0;34m]\u001b[0m\u001b[0;34m\u001b[0m\u001b[0m\n\u001b[1;32m   2075\u001b[0m \u001b[0;34m\u001b[0m\u001b[0m\n",
      "\u001b[0;32m~/anaconda/lib/python3.6/site-packages/tensorflow/python/client/session.py\u001b[0m in \u001b[0;36mrun\u001b[0;34m(self, fetches, feed_dict, options, run_metadata)\u001b[0m\n\u001b[1;32m    787\u001b[0m     \u001b[0;32mtry\u001b[0m\u001b[0;34m:\u001b[0m\u001b[0;34m\u001b[0m\u001b[0m\n\u001b[1;32m    788\u001b[0m       result = self._run(None, fetches, feed_dict, options_ptr,\n\u001b[0;32m--> 789\u001b[0;31m                          run_metadata_ptr)\n\u001b[0m\u001b[1;32m    790\u001b[0m       \u001b[0;32mif\u001b[0m \u001b[0mrun_metadata\u001b[0m\u001b[0;34m:\u001b[0m\u001b[0;34m\u001b[0m\u001b[0m\n\u001b[1;32m    791\u001b[0m         \u001b[0mproto_data\u001b[0m \u001b[0;34m=\u001b[0m \u001b[0mtf_session\u001b[0m\u001b[0;34m.\u001b[0m\u001b[0mTF_GetBuffer\u001b[0m\u001b[0;34m(\u001b[0m\u001b[0mrun_metadata_ptr\u001b[0m\u001b[0;34m)\u001b[0m\u001b[0;34m\u001b[0m\u001b[0m\n",
      "\u001b[0;32m~/anaconda/lib/python3.6/site-packages/tensorflow/python/client/session.py\u001b[0m in \u001b[0;36m_run\u001b[0;34m(self, handle, fetches, feed_dict, options, run_metadata)\u001b[0m\n\u001b[1;32m    995\u001b[0m     \u001b[0;32mif\u001b[0m \u001b[0mfinal_fetches\u001b[0m \u001b[0;32mor\u001b[0m \u001b[0mfinal_targets\u001b[0m\u001b[0;34m:\u001b[0m\u001b[0;34m\u001b[0m\u001b[0m\n\u001b[1;32m    996\u001b[0m       results = self._do_run(handle, final_targets, final_fetches,\n\u001b[0;32m--> 997\u001b[0;31m                              feed_dict_string, options, run_metadata)\n\u001b[0m\u001b[1;32m    998\u001b[0m     \u001b[0;32melse\u001b[0m\u001b[0;34m:\u001b[0m\u001b[0;34m\u001b[0m\u001b[0m\n\u001b[1;32m    999\u001b[0m       \u001b[0mresults\u001b[0m \u001b[0;34m=\u001b[0m \u001b[0;34m[\u001b[0m\u001b[0;34m]\u001b[0m\u001b[0;34m\u001b[0m\u001b[0m\n",
      "\u001b[0;32m~/anaconda/lib/python3.6/site-packages/tensorflow/python/client/session.py\u001b[0m in \u001b[0;36m_do_run\u001b[0;34m(self, handle, target_list, fetch_list, feed_dict, options, run_metadata)\u001b[0m\n\u001b[1;32m   1130\u001b[0m     \u001b[0;32mif\u001b[0m \u001b[0mhandle\u001b[0m \u001b[0;32mis\u001b[0m \u001b[0;32mNone\u001b[0m\u001b[0;34m:\u001b[0m\u001b[0;34m\u001b[0m\u001b[0m\n\u001b[1;32m   1131\u001b[0m       return self._do_call(_run_fn, self._session, feed_dict, fetch_list,\n\u001b[0;32m-> 1132\u001b[0;31m                            target_list, options, run_metadata)\n\u001b[0m\u001b[1;32m   1133\u001b[0m     \u001b[0;32melse\u001b[0m\u001b[0;34m:\u001b[0m\u001b[0;34m\u001b[0m\u001b[0m\n\u001b[1;32m   1134\u001b[0m       return self._do_call(_prun_fn, self._session, handle, feed_dict,\n",
      "\u001b[0;32m~/anaconda/lib/python3.6/site-packages/tensorflow/python/client/session.py\u001b[0m in \u001b[0;36m_do_call\u001b[0;34m(self, fn, *args)\u001b[0m\n\u001b[1;32m   1137\u001b[0m   \u001b[0;32mdef\u001b[0m \u001b[0m_do_call\u001b[0m\u001b[0;34m(\u001b[0m\u001b[0mself\u001b[0m\u001b[0;34m,\u001b[0m \u001b[0mfn\u001b[0m\u001b[0;34m,\u001b[0m \u001b[0;34m*\u001b[0m\u001b[0margs\u001b[0m\u001b[0;34m)\u001b[0m\u001b[0;34m:\u001b[0m\u001b[0;34m\u001b[0m\u001b[0m\n\u001b[1;32m   1138\u001b[0m     \u001b[0;32mtry\u001b[0m\u001b[0;34m:\u001b[0m\u001b[0;34m\u001b[0m\u001b[0m\n\u001b[0;32m-> 1139\u001b[0;31m       \u001b[0;32mreturn\u001b[0m \u001b[0mfn\u001b[0m\u001b[0;34m(\u001b[0m\u001b[0;34m*\u001b[0m\u001b[0margs\u001b[0m\u001b[0;34m)\u001b[0m\u001b[0;34m\u001b[0m\u001b[0m\n\u001b[0m\u001b[1;32m   1140\u001b[0m     \u001b[0;32mexcept\u001b[0m \u001b[0merrors\u001b[0m\u001b[0;34m.\u001b[0m\u001b[0mOpError\u001b[0m \u001b[0;32mas\u001b[0m \u001b[0me\u001b[0m\u001b[0;34m:\u001b[0m\u001b[0;34m\u001b[0m\u001b[0m\n\u001b[1;32m   1141\u001b[0m       \u001b[0mmessage\u001b[0m \u001b[0;34m=\u001b[0m \u001b[0mcompat\u001b[0m\u001b[0;34m.\u001b[0m\u001b[0mas_text\u001b[0m\u001b[0;34m(\u001b[0m\u001b[0me\u001b[0m\u001b[0;34m.\u001b[0m\u001b[0mmessage\u001b[0m\u001b[0;34m)\u001b[0m\u001b[0;34m\u001b[0m\u001b[0m\n",
      "\u001b[0;32m~/anaconda/lib/python3.6/site-packages/tensorflow/python/client/session.py\u001b[0m in \u001b[0;36m_run_fn\u001b[0;34m(session, feed_dict, fetch_list, target_list, options, run_metadata)\u001b[0m\n\u001b[1;32m   1119\u001b[0m         return tf_session.TF_Run(session, options,\n\u001b[1;32m   1120\u001b[0m                                  \u001b[0mfeed_dict\u001b[0m\u001b[0;34m,\u001b[0m \u001b[0mfetch_list\u001b[0m\u001b[0;34m,\u001b[0m \u001b[0mtarget_list\u001b[0m\u001b[0;34m,\u001b[0m\u001b[0;34m\u001b[0m\u001b[0m\n\u001b[0;32m-> 1121\u001b[0;31m                                  status, run_metadata)\n\u001b[0m\u001b[1;32m   1122\u001b[0m \u001b[0;34m\u001b[0m\u001b[0m\n\u001b[1;32m   1123\u001b[0m     \u001b[0;32mdef\u001b[0m \u001b[0m_prun_fn\u001b[0m\u001b[0;34m(\u001b[0m\u001b[0msession\u001b[0m\u001b[0;34m,\u001b[0m \u001b[0mhandle\u001b[0m\u001b[0;34m,\u001b[0m \u001b[0mfeed_dict\u001b[0m\u001b[0;34m,\u001b[0m \u001b[0mfetch_list\u001b[0m\u001b[0;34m)\u001b[0m\u001b[0;34m:\u001b[0m\u001b[0;34m\u001b[0m\u001b[0m\n",
      "\u001b[0;31mKeyboardInterrupt\u001b[0m: "
     ]
    }
   ],
   "source": [
    "K = 20\n",
    "for i in range(K):\n",
    "    [u, emb, reg, d]  = [parm_list[name][i] for name in list_names]\n",
    "    print(u, emb, reg, d)\n",
    "    model = get_LSTM_model(units=u, embeding_size=emb, emb_reg=reg, dropout=d)\n",
    "    fc_cos(model, steps_per_epoch, nc=1, cl=5, lr=0.01)"
   ]
  },
  {
   "cell_type": "code",
   "execution_count": 24,
   "metadata": {
    "collapsed": true
   },
   "outputs": [],
   "source": [
    "\n",
    "units_arr = np.array([20, 30, 40, 50, 60, 70])\n",
    "embeding_size_arr = np.array([20, 30, 40, 50, 60, 70])\n",
    "emb_reg_arr = np.array([1e-2, 1e-3, 1e-4, 1e-5])\n",
    "dropout_arr = np.array([0.0, 0.1, 0.2, 0.3, 0.4, 0.5])\n",
    "\n",
    "K = 20\n",
    "list_arr = [units_arr, embeding_size_arr, emb_reg_arr, dropout_arr]\n",
    "list_names = [\"units\", \"embeding_size\", \"emb_reg\", \"dropout\"]\n",
    "parm_list = {}\n",
    "for l, name in zip(list_arr, list_names):\n",
    "    parm_list[name] = random.choices(l, k = K)"
   ]
  },
  {
   "cell_type": "code",
   "execution_count": null,
   "metadata": {},
   "outputs": [
    {
     "name": "stdout",
     "output_type": "stream",
     "text": [
      "0 60 40 1e-05 0.3\n",
      "Train on 25000 samples, validate on 25000 samples\n",
      "Epoch 1/5\n",
      " 5056/25000 [=====>........................] - ETA: 277s - loss: 0.6063 - acc: 0.6699"
     ]
    }
   ],
   "source": [
    "for i in range(K):\n",
    "    [u, emb, reg, d]  = [parm_list[name][i] for name in list_names]\n",
    "    print(i, u, emb, reg, d)\n",
    "    model = get_LSTM_model(units=u, embeding_size=emb, emb_reg=reg, dropout=d)\n",
    "    fc_cos(model, steps_per_epoch, nc=1, cl=5, lr=0.01)"
   ]
  },
  {
   "cell_type": "code",
   "execution_count": null,
   "metadata": {
    "collapsed": true
   },
   "outputs": [],
   "source": []
  }
 ],
 "metadata": {
  "kernelspec": {
   "display_name": "Python 3",
   "language": "python",
   "name": "python3"
  }
 },
 "nbformat": 4,
 "nbformat_minor": 2
}
