{
 "cells": [
  {
   "cell_type": "markdown",
   "metadata": {},
   "source": [
    "# LSTM for sequence classification (Quora)"
   ]
  },
  {
   "cell_type": "markdown",
   "metadata": {},
   "source": [
    "In this notebook we try our best to solve a Kaggle competition problem in which we are trying to answer the following question:\n",
    "Can you identify question pairs that have the same intent?\n",
    "\n",
    "https://www.kaggle.com/c/quora-question-pairs"
   ]
  },
  {
   "cell_type": "code",
   "execution_count": 1,
   "metadata": {},
   "outputs": [
    {
     "name": "stderr",
     "output_type": "stream",
     "text": [
      "Using TensorFlow backend.\n"
     ]
    }
   ],
   "source": [
    "%matplotlib inline\n",
    "import lstm_utils\n",
    "import importlib\n",
    "importlib.reload(lstm_utils)\n",
    "from lstm_utils import *\n",
    "import sgdr\n",
    "importlib.reload(sgdr)\n",
    "from sgdr import *\n",
    "import codecs"
   ]
  },
  {
   "cell_type": "markdown",
   "metadata": {},
   "source": [
    "## Cleaning the Quora pairs dataset"
   ]
  },
  {
   "cell_type": "markdown",
   "metadata": {},
   "source": [
    "To get the data you should use this kaggle api: https://github.com/floydwch/kaggle-cli.\n",
    "(You have to first accept the rules for this competition.)"
   ]
  },
  {
   "cell_type": "code",
   "execution_count": 2,
   "metadata": {
    "collapsed": true
   },
   "outputs": [],
   "source": [
    "path = \"/data/yinterian/quora-question-pairs/\""
   ]
  },
  {
   "cell_type": "code",
   "execution_count": 3,
   "metadata": {
    "collapsed": true
   },
   "outputs": [],
   "source": [
    "train = pd.read_csv(path + \"train.csv\")\n",
    "test = pd.read_csv(path + \"test.csv\")"
   ]
  },
  {
   "cell_type": "code",
   "execution_count": 4,
   "metadata": {},
   "outputs": [
    {
     "data": {
      "text/html": [
       "<div>\n",
       "<style>\n",
       "    .dataframe thead tr:only-child th {\n",
       "        text-align: right;\n",
       "    }\n",
       "\n",
       "    .dataframe thead th {\n",
       "        text-align: left;\n",
       "    }\n",
       "\n",
       "    .dataframe tbody tr th {\n",
       "        vertical-align: top;\n",
       "    }\n",
       "</style>\n",
       "<table border=\"1\" class=\"dataframe\">\n",
       "  <thead>\n",
       "    <tr style=\"text-align: right;\">\n",
       "      <th></th>\n",
       "      <th>test_id</th>\n",
       "      <th>question1</th>\n",
       "      <th>question2</th>\n",
       "    </tr>\n",
       "  </thead>\n",
       "  <tbody>\n",
       "    <tr>\n",
       "      <th>379205</th>\n",
       "      <td>379205</td>\n",
       "      <td>How I can learn android app development?</td>\n",
       "      <td>NaN</td>\n",
       "    </tr>\n",
       "    <tr>\n",
       "      <th>817520</th>\n",
       "      <td>817520</td>\n",
       "      <td>How real can learn android app development?</td>\n",
       "      <td>NaN</td>\n",
       "    </tr>\n",
       "    <tr>\n",
       "      <th>943911</th>\n",
       "      <td>943911</td>\n",
       "      <td>How app development?</td>\n",
       "      <td>NaN</td>\n",
       "    </tr>\n",
       "    <tr>\n",
       "      <th>1046690</th>\n",
       "      <td>1046690</td>\n",
       "      <td>NaN</td>\n",
       "      <td>How I what can learn android app development?</td>\n",
       "    </tr>\n",
       "    <tr>\n",
       "      <th>1270024</th>\n",
       "      <td>1270024</td>\n",
       "      <td>How I can learn app development?</td>\n",
       "      <td>NaN</td>\n",
       "    </tr>\n",
       "    <tr>\n",
       "      <th>1461432</th>\n",
       "      <td>1461432</td>\n",
       "      <td>NaN</td>\n",
       "      <td>How distinct can learn android app development?</td>\n",
       "    </tr>\n",
       "  </tbody>\n",
       "</table>\n",
       "</div>"
      ],
      "text/plain": [
       "         test_id                                    question1  \\\n",
       "379205    379205     How I can learn android app development?   \n",
       "817520    817520  How real can learn android app development?   \n",
       "943911    943911                         How app development?   \n",
       "1046690  1046690                                          NaN   \n",
       "1270024  1270024             How I can learn app development?   \n",
       "1461432  1461432                                          NaN   \n",
       "\n",
       "                                               question2  \n",
       "379205                                               NaN  \n",
       "817520                                               NaN  \n",
       "943911                                               NaN  \n",
       "1046690    How I what can learn android app development?  \n",
       "1270024                                              NaN  \n",
       "1461432  How distinct can learn android app development?  "
      ]
     },
     "execution_count": 4,
     "metadata": {},
     "output_type": "execute_result"
    }
   ],
   "source": [
    "test[pd.isnull(test).any(axis=1)]"
   ]
  },
  {
   "cell_type": "code",
   "execution_count": 5,
   "metadata": {
    "collapsed": true
   },
   "outputs": [],
   "source": [
    "train = train.fillna(\" \")\n",
    "test = test.fillna(\" \")"
   ]
  },
  {
   "cell_type": "code",
   "execution_count": 6,
   "metadata": {
    "collapsed": true
   },
   "outputs": [],
   "source": [
    "# The function \"text_to_wordlist\" is from\n",
    "# https://www.kaggle.com/currie32/quora-question-pairs/the-importance-of-cleaning-text\n",
    "def text_to_wordlist(text, remove_stopwords=False, stem_words=False):\n",
    "    # Clean the text, with the option to remove stopwords and to stem words.\n",
    "    \n",
    "    # Convert words to lower case and split them\n",
    "    text = text.lower().split()\n",
    "\n",
    "    # Optionally, remove stop words\n",
    "    if remove_stopwords:\n",
    "        stops = set(stopwords.words(\"english\"))\n",
    "        text = [w for w in text if not w in stops]\n",
    "    \n",
    "    text = \" \".join(text)\n",
    "\n",
    "    # Clean the text\n",
    "    text = re.sub(r\"[^A-Za-z0-9^,!.\\/'+-=]\", \" \", text)\n",
    "    text = re.sub(r\"what's\", \"what is \", text)\n",
    "    text = re.sub(r\"\\'s\", \" \", text)\n",
    "    text = re.sub(r\"\\'ve\", \" have \", text)\n",
    "    text = re.sub(r\"can't\", \"cannot \", text)\n",
    "    text = re.sub(r\"n't\", \" not \", text)\n",
    "    text = re.sub(r\"i'm\", \"i am \", text)\n",
    "    text = re.sub(r\"\\'re\", \" are \", text)\n",
    "    text = re.sub(r\"\\'d\", \" would \", text)\n",
    "    text = re.sub(r\"\\'ll\", \" will \", text)\n",
    "    text = re.sub(r\",\", \" \", text)\n",
    "    text = re.sub(r\"\\.\", \" \", text)\n",
    "    text = re.sub(r\"!\", \" ! \", text)\n",
    "    text = re.sub(r\"\\/\", \" \", text)\n",
    "    text = re.sub(r\"\\^\", \" ^ \", text)\n",
    "    text = re.sub(r\"\\+\", \" + \", text)\n",
    "    text = re.sub(r\"\\-\", \" - \", text)\n",
    "    text = re.sub(r\"\\=\", \" = \", text)\n",
    "    text = re.sub(r\"'\", \" \", text)\n",
    "    text = re.sub(r\"(\\d+)(k)\", r\"\\g<1>000\", text)\n",
    "    text = re.sub(r\":\", \" : \", text)\n",
    "    text = re.sub(r\" e g \", \" eg \", text)\n",
    "    text = re.sub(r\" b g \", \" bg \", text)\n",
    "    text = re.sub(r\" u s \", \" american \", text)\n",
    "    text = re.sub(r\"\\0s\", \"0\", text)\n",
    "    text = re.sub(r\" 9 11 \", \"911\", text)\n",
    "    text = re.sub(r\"e - mail\", \"email\", text)\n",
    "    text = re.sub(r\"j k\", \"jk\", text)\n",
    "    text = re.sub(r\"\\s{2,}\", \" \", text)\n",
    "    \n",
    "    # Optionally, shorten words to their stems\n",
    "    if stem_words:\n",
    "        text = text.split()\n",
    "        stemmer = SnowballStemmer('english')\n",
    "        stemmed_words = [stemmer.stem(word) for word in text]\n",
    "        text = \" \".join(stemmed_words)\n",
    "    \n",
    "    # Return a list of words\n",
    "    return(text)"
   ]
  },
  {
   "cell_type": "code",
   "execution_count": 23,
   "metadata": {
    "collapsed": true
   },
   "outputs": [],
   "source": [
    "def read_data(filename, train=True):\n",
    "    texts_1 = [] \n",
    "    texts_2 = []\n",
    "    labels = []\n",
    "    col1, col2, col3 = 3, 4, 5\n",
    "    if not train:\n",
    "       col1, col2, col3 = 1, 2, 0 \n",
    "    with codecs.open(filename, encoding='utf-8') as f:\n",
    "        reader = csv.reader(f, delimiter=',')\n",
    "        header = next(reader)\n",
    "        for values in reader:\n",
    "            texts_1.append(text_to_wordlist(values[col1]))\n",
    "            texts_2.append(text_to_wordlist(values[col2]))\n",
    "            labels.append(int(values[col3]))\n",
    "    print('Found %s texts in train.csv' % len(texts_1))\n",
    "    # for test set the last column is the id.\n",
    "    return texts_1, texts_2, labels"
   ]
  },
  {
   "cell_type": "code",
   "execution_count": 15,
   "metadata": {},
   "outputs": [
    {
     "name": "stdout",
     "output_type": "stream",
     "text": [
      "Found 404290 texts in train.csv\n"
     ]
    }
   ],
   "source": [
    "train_1, train_2, labels = read_data(path + \"train.csv\", train=True)"
   ]
  },
  {
   "cell_type": "code",
   "execution_count": 24,
   "metadata": {},
   "outputs": [
    {
     "name": "stdout",
     "output_type": "stream",
     "text": [
      "Found 2345796 texts in train.csv\n"
     ]
    }
   ],
   "source": [
    "test_1, test_2, ids = read_data(path + \"test.csv\", train=False)"
   ]
  },
  {
   "cell_type": "code",
   "execution_count": 21,
   "metadata": {},
   "outputs": [
    {
     "name": "stdout",
     "output_type": "stream",
     "text": [
      "what is the step by step guide to invest in share market in india  what is the step by step guide to invest in share market  0\n"
     ]
    }
   ],
   "source": [
    "print(train_1[0],train_2[0], labels[0])"
   ]
  },
  {
   "cell_type": "code",
   "execution_count": 22,
   "metadata": {},
   "outputs": [
    {
     "name": "stdout",
     "output_type": "stream",
     "text": [
      "how does the surface pro himself 4 compare with ipad pro  why did microsoft choose core m3 and not core i3 home surface pro 4 \n"
     ]
    }
   ],
   "source": [
    "print(test_1[0],test_2[0])"
   ]
  },
  {
   "cell_type": "code",
   "execution_count": 29,
   "metadata": {
    "collapsed": true
   },
   "outputs": [],
   "source": [
    "f = open(path + 'train_clean.csv', 'w')\n",
    "for i in range(len(train_1)):\n",
    "    f.write(f'{train_1[i]},{train_2[i]},{labels[i]}\\n')\n",
    "f.close()"
   ]
  },
  {
   "cell_type": "code",
   "execution_count": 31,
   "metadata": {
    "collapsed": true
   },
   "outputs": [],
   "source": [
    "f = open(path + 'test_clean.csv', 'w')\n",
    "for i in range(len(test_1)):\n",
    "    f.write(f'{ids[i]},{test_1[i]},{test_2[i]}\\n')\n",
    "f.close()"
   ]
  },
  {
   "cell_type": "markdown",
   "metadata": {},
   "source": [
    "## Tokenizing"
   ]
  },
  {
   "cell_type": "code",
   "execution_count": 7,
   "metadata": {},
   "outputs": [
    {
     "name": "stdout",
     "output_type": "stream",
     "text": [
      "(404290, 3) (2345796, 3)\n"
     ]
    }
   ],
   "source": [
    "train = pd.read_csv(path + \"train_clean.csv\", names=[\"seq1\", \"seq2\", \"label\"])\n",
    "test = pd.read_csv(path + \"test_clean.csv\", names=[\"id\", \"seq1\", \"seq2\"])\n",
    "print(train.shape, test.shape)"
   ]
  },
  {
   "cell_type": "code",
   "execution_count": 8,
   "metadata": {
    "collapsed": true
   },
   "outputs": [],
   "source": [
    "train = train.fillna(\" \")\n",
    "test = test.fillna(\" \")"
   ]
  },
  {
   "cell_type": "code",
   "execution_count": 9,
   "metadata": {},
   "outputs": [
    {
     "data": {
      "text/html": [
       "<div>\n",
       "<style>\n",
       "    .dataframe thead tr:only-child th {\n",
       "        text-align: right;\n",
       "    }\n",
       "\n",
       "    .dataframe thead th {\n",
       "        text-align: left;\n",
       "    }\n",
       "\n",
       "    .dataframe tbody tr th {\n",
       "        vertical-align: top;\n",
       "    }\n",
       "</style>\n",
       "<table border=\"1\" class=\"dataframe\">\n",
       "  <thead>\n",
       "    <tr style=\"text-align: right;\">\n",
       "      <th></th>\n",
       "      <th>seq1</th>\n",
       "      <th>seq2</th>\n",
       "      <th>label</th>\n",
       "    </tr>\n",
       "  </thead>\n",
       "  <tbody>\n",
       "  </tbody>\n",
       "</table>\n",
       "</div>"
      ],
      "text/plain": [
       "Empty DataFrame\n",
       "Columns: [seq1, seq2, label]\n",
       "Index: []"
      ]
     },
     "execution_count": 9,
     "metadata": {},
     "output_type": "execute_result"
    }
   ],
   "source": [
    "train[pd.isnull(train).any(axis=1)]"
   ]
  },
  {
   "cell_type": "code",
   "execution_count": 10,
   "metadata": {},
   "outputs": [
    {
     "data": {
      "text/html": [
       "<div>\n",
       "<style>\n",
       "    .dataframe thead tr:only-child th {\n",
       "        text-align: right;\n",
       "    }\n",
       "\n",
       "    .dataframe thead th {\n",
       "        text-align: left;\n",
       "    }\n",
       "\n",
       "    .dataframe tbody tr th {\n",
       "        vertical-align: top;\n",
       "    }\n",
       "</style>\n",
       "<table border=\"1\" class=\"dataframe\">\n",
       "  <thead>\n",
       "    <tr style=\"text-align: right;\">\n",
       "      <th></th>\n",
       "      <th>seq1</th>\n",
       "      <th>seq2</th>\n",
       "      <th>label</th>\n",
       "    </tr>\n",
       "  </thead>\n",
       "  <tbody>\n",
       "  </tbody>\n",
       "</table>\n",
       "</div>"
      ],
      "text/plain": [
       "Empty DataFrame\n",
       "Columns: [seq1, seq2, label]\n",
       "Index: []"
      ]
     },
     "execution_count": 10,
     "metadata": {},
     "output_type": "execute_result"
    }
   ],
   "source": [
    "train = train.dropna(axis=0, how='any')\n",
    "train[pd.isnull(train).any(axis=1)]"
   ]
  },
  {
   "cell_type": "code",
   "execution_count": 11,
   "metadata": {},
   "outputs": [
    {
     "data": {
      "text/html": [
       "<div>\n",
       "<style>\n",
       "    .dataframe thead tr:only-child th {\n",
       "        text-align: right;\n",
       "    }\n",
       "\n",
       "    .dataframe thead th {\n",
       "        text-align: left;\n",
       "    }\n",
       "\n",
       "    .dataframe tbody tr th {\n",
       "        vertical-align: top;\n",
       "    }\n",
       "</style>\n",
       "<table border=\"1\" class=\"dataframe\">\n",
       "  <thead>\n",
       "    <tr style=\"text-align: right;\">\n",
       "      <th></th>\n",
       "      <th>id</th>\n",
       "      <th>seq1</th>\n",
       "      <th>seq2</th>\n",
       "    </tr>\n",
       "  </thead>\n",
       "  <tbody>\n",
       "  </tbody>\n",
       "</table>\n",
       "</div>"
      ],
      "text/plain": [
       "Empty DataFrame\n",
       "Columns: [id, seq1, seq2]\n",
       "Index: []"
      ]
     },
     "execution_count": 11,
     "metadata": {},
     "output_type": "execute_result"
    }
   ],
   "source": [
    "test[pd.isnull(test).any(axis=1)]"
   ]
  },
  {
   "cell_type": "code",
   "execution_count": 12,
   "metadata": {
    "collapsed": true
   },
   "outputs": [],
   "source": [
    " seqs = np.concatenate([train[\"seq1\"].values, train[\"seq2\"].values, test[\"seq1\"].values, test[\"seq2\"].values])"
   ]
  },
  {
   "cell_type": "code",
   "execution_count": 13,
   "metadata": {},
   "outputs": [
    {
     "data": {
      "text/plain": [
       "(5500172,)"
      ]
     },
     "execution_count": 13,
     "metadata": {},
     "output_type": "execute_result"
    }
   ],
   "source": [
    "seqs.shape"
   ]
  },
  {
   "cell_type": "code",
   "execution_count": 14,
   "metadata": {
    "collapsed": true
   },
   "outputs": [],
   "source": [
    "MAX_NB_WORDS = 50000\n",
    "tokenizer = Tokenizer(num_words=MAX_NB_WORDS)\n",
    "tokenizer.fit_on_texts(list(seqs))"
   ]
  },
  {
   "cell_type": "code",
   "execution_count": 15,
   "metadata": {
    "collapsed": true
   },
   "outputs": [],
   "source": [
    "seq1 = tokenizer.texts_to_sequences(train[\"seq1\"])\n",
    "seq2 = tokenizer.texts_to_sequences(train[\"seq2\"])\n",
    "test_seq1 = tokenizer.texts_to_sequences(test[\"seq1\"])\n",
    "test_seq2 = tokenizer.texts_to_sequences(test[\"seq2\"])\n",
    "\n",
    "word_index = tokenizer.word_index"
   ]
  },
  {
   "cell_type": "code",
   "execution_count": 16,
   "metadata": {},
   "outputs": [
    {
     "data": {
      "text/plain": [
       "[[2, 3, 1, 1254, 61, 1254, 2921, 8, 578, 7, 759, 370, 7, 35],\n",
       " [2, 3, 1, 532, 10, 16563, 11914, 4, 22978, 4743],\n",
       " [5, 13, 4, 293, 1, 423, 10, 18, 334, 1724, 153, 127, 6, 2885],\n",
       " [15, 47, 4, 3396, 278, 3289, 5, 13, 4, 682, 17],\n",
       " [23, 48, 5750, 7, 204, 1593, 2208, 10718, 12, 1892, 7839, 5204]]"
      ]
     },
     "execution_count": 16,
     "metadata": {},
     "output_type": "execute_result"
    }
   ],
   "source": [
    "seq1[0:5]"
   ]
  },
  {
   "cell_type": "code",
   "execution_count": 17,
   "metadata": {
    "collapsed": true
   },
   "outputs": [],
   "source": [
    "l = [len(s) for s in seq1]"
   ]
  },
  {
   "cell_type": "code",
   "execution_count": 18,
   "metadata": {},
   "outputs": [
    {
     "data": {
      "text/plain": [
       "0.10     6.0\n",
       "0.50    10.0\n",
       "0.95    22.0\n",
       "dtype: float64"
      ]
     },
     "execution_count": 18,
     "metadata": {},
     "output_type": "execute_result"
    }
   ],
   "source": [
    "ll = pd.Series(l)\n",
    "ll.quantile([0.1, 0.5, 0.95])"
   ]
  },
  {
   "cell_type": "code",
   "execution_count": 19,
   "metadata": {},
   "outputs": [
    {
     "name": "stdout",
     "output_type": "stream",
     "text": [
      "Found 120499 unique tokens\n"
     ]
    }
   ],
   "source": [
    "word_index\n",
    "print('Found %s unique tokens' % len(word_index))"
   ]
  },
  {
   "cell_type": "code",
   "execution_count": 20,
   "metadata": {},
   "outputs": [
    {
     "name": "stdout",
     "output_type": "stream",
     "text": [
      "Found 120499 unique tokens\n",
      "Shape of data tensor: (404290, 20)\n",
      "Shape of label tensor: (404290,)\n"
     ]
    }
   ],
   "source": [
    "MAX_SEQUENCE_LENGTH = 20\n",
    "print('Found %s unique tokens' % len(word_index))\n",
    "data_1 = sequence.pad_sequences(seq1, maxlen=MAX_SEQUENCE_LENGTH)\n",
    "data_2 = sequence.pad_sequences(seq2, maxlen=MAX_SEQUENCE_LENGTH)\n",
    "labels = np.array(train[\"label\"])\n",
    "print('Shape of data tensor:', data_1.shape)\n",
    "print('Shape of label tensor:', labels.shape)"
   ]
  },
  {
   "cell_type": "code",
   "execution_count": 21,
   "metadata": {
    "collapsed": true
   },
   "outputs": [],
   "source": [
    "word_index\n",
    "idx2word = {v: k for k, v in word_index.items()}"
   ]
  },
  {
   "cell_type": "code",
   "execution_count": 22,
   "metadata": {},
   "outputs": [
    {
     "data": {
      "text/plain": [
       "'the'"
      ]
     },
     "execution_count": 22,
     "metadata": {},
     "output_type": "execute_result"
    }
   ],
   "source": [
    "idx2word[1]"
   ]
  },
  {
   "cell_type": "code",
   "execution_count": 24,
   "metadata": {},
   "outputs": [
    {
     "data": {
      "text/plain": [
       "323432"
      ]
     },
     "execution_count": 24,
     "metadata": {},
     "output_type": "execute_result"
    }
   ],
   "source": [
    "VALIDATION_SPLIT = 0.2\n",
    "perm = np.random.permutation(len(data_1))\n",
    "n = int(np.ceil(len(data_1)*(1-VALIDATION_SPLIT)))\n",
    "n"
   ]
  },
  {
   "cell_type": "code",
   "execution_count": 25,
   "metadata": {
    "collapsed": true
   },
   "outputs": [],
   "source": [
    "# split train and validation\n",
    "perm = np.random.permutation(len(data_1))\n",
    "n = int(np.ceil(len(data_1)*(1-VALIDATION_SPLIT)))\n",
    "idx_train = perm[:n]\n",
    "idx_val = perm[n:]\n",
    "\n",
    "x1_train = data_1[idx_train]\n",
    "x2_train = data_2[idx_train]\n",
    "y_train = labels[idx_train]\n",
    "\n",
    "x1_val = data_1[idx_val]\n",
    "x2_val = data_2[idx_val]\n",
    "y_val = labels[idx_val]\n",
    "\n",
    "re_weight = True\n",
    "weight_val = np.ones(len(y_val))\n",
    "if re_weight:\n",
    "    weight_val *= 0.472001959\n",
    "    weight_val[y_val==0] = 1.309028344"
   ]
  },
  {
   "cell_type": "markdown",
   "metadata": {
    "collapsed": true
   },
   "source": [
    "# Defining the model"
   ]
  },
  {
   "cell_type": "code",
   "execution_count": 26,
   "metadata": {
    "collapsed": true
   },
   "outputs": [],
   "source": [
    "MAX_SEQUENCE_LENGTH = 20\n",
    "MAX_NB_WORDS = 50000\n",
    "EMBEDDING_DIM = 50\n",
    "VALIDATION_SPLIT = 0.2"
   ]
  },
  {
   "cell_type": "code",
   "execution_count": 27,
   "metadata": {},
   "outputs": [
    {
     "data": {
      "text/plain": [
       "(50000, 50)"
      ]
     },
     "execution_count": 27,
     "metadata": {},
     "output_type": "execute_result"
    }
   ],
   "source": [
    "glove_path = \"/data/yinterian/Glove/6B.50d\"\n",
    "emb = create_emb(MAX_NB_WORDS, glove_path, idx2word)\n",
    "emb.shape"
   ]
  },
  {
   "cell_type": "code",
   "execution_count": 28,
   "metadata": {
    "collapsed": true
   },
   "outputs": [],
   "source": [
    "# fix random seed for reproducibility\n",
    "np.random.seed(3)"
   ]
  },
  {
   "cell_type": "code",
   "execution_count": 29,
   "metadata": {
    "collapsed": true
   },
   "outputs": [],
   "source": [
    "from keras.layers.merge import concatenate\n",
    "#class_weight = {0: 1.309028344, 1: 0.472001959}\n",
    "\n",
    "def get_model():\n",
    "    nb_words = MAX_NB_WORDS\n",
    "    embedding_layer = Embedding(nb_words,\n",
    "        EMBEDDING_DIM,\n",
    "        weights=[emb],\n",
    "        input_length=MAX_SEQUENCE_LENGTH,\n",
    "        trainable=True)\n",
    "    lstm_layer = LSTM(100, dropout=0.2, recurrent_dropout=0.2)\n",
    "\n",
    "    input1 = Input(shape=(MAX_SEQUENCE_LENGTH,), dtype='int32')\n",
    "    emb_seq1 = embedding_layer(input1)\n",
    "    x1 = lstm_layer(emb_seq1)\n",
    "\n",
    "    input2 = Input(shape=(MAX_SEQUENCE_LENGTH,), dtype='int32')\n",
    "    emb_seq2 = embedding_layer(input2)\n",
    "    x2 = lstm_layer(emb_seq2)\n",
    "\n",
    "    x = concatenate([x1, x2])\n",
    "    x = Dropout(0.2)(x)\n",
    "    x = BatchNormalization()(x)\n",
    "    x = Dense(30, activation='relu')(x)\n",
    "    x = Dropout(0.2)(x)\n",
    "    x = BatchNormalization()(x)\n",
    "    preds = Dense(1, activation='sigmoid')(x)\n",
    "\n",
    "    model = Model(inputs=[input1, input2], outputs=preds)\n",
    "    model.compile(loss='binary_crossentropy', optimizer='nadam', metrics=['acc'])\n",
    "    return model"
   ]
  },
  {
   "cell_type": "code",
   "execution_count": 35,
   "metadata": {},
   "outputs": [
    {
     "name": "stdout",
     "output_type": "stream",
     "text": [
      "Train on 323432 samples, validate on 80858 samples\n",
      "Epoch 1/1\n",
      "323432/323432 [==============================] - 16s - loss: 1.2569 - acc: 0.5704 - val_loss: 2.9032 - val_acc: 0.6271\n"
     ]
    },
    {
     "data": {
      "text/plain": [
       "<keras.callbacks.History at 0x7f9e7f5f3a20>"
      ]
     },
     "execution_count": 35,
     "metadata": {},
     "output_type": "execute_result"
    }
   ],
   "source": [
    "#class_weight=class_weight,\n",
    "model = get_model()\n",
    "batch_size=2048\n",
    "steps_per_epoch = math.ceil(323432/batch_size)\n",
    "cb = LR_Finder(steps_per_epoch, start_lr=1e-7, end_lr=3)\n",
    "model.fit([x1_train, x2_train], y_train, \\\n",
    "          validation_data=([x1_val, x2_val], y_val, weight_val), \\\n",
    "          epochs=1, batch_size=batch_size, shuffle=True, \\\n",
    "          callbacks=[cb], verbose=1)"
   ]
  },
  {
   "cell_type": "code",
   "execution_count": 36,
   "metadata": {},
   "outputs": [
    {
     "data": {
      "image/png": "[encoded data removed]",
      "text/plain": [
       "<matplotlib.figure.Figure at 0x7f9e8f3f3908>"
      ]
     },
     "metadata": {},
     "output_type": "display_data"
    }
   ],
   "source": [
    "%matplotlib inline\n",
    "plt.plot(cb.history['lr'], cb.losses)\n",
    "plt.ylim((0,1.25))\n",
    "plt.xscale('log');"
   ]
  },
  {
   "cell_type": "code",
   "execution_count": 37,
   "metadata": {},
   "outputs": [
    {
     "name": "stdout",
     "output_type": "stream",
     "text": [
      "Train on 323432 samples, validate on 80858 samples\n",
      "Epoch 1/10\n",
      "323432/323432 [==============================] - 15s - loss: 5.9484 - acc: 0.6309 - val_loss: 5.9794 - val_acc: 0.6290\n",
      "Epoch 2/10\n",
      "323432/323432 [==============================] - 15s - loss: 5.9556 - acc: 0.6304 - val_loss: 5.9794 - val_acc: 0.6290\n",
      "Epoch 3/10\n",
      "323432/323432 [==============================] - 15s - loss: 5.9436 - acc: 0.6312 - val_loss: 5.9794 - val_acc: 0.6290\n",
      "Epoch 4/10\n",
      "323432/323432 [==============================] - 16s - loss: 5.9436 - acc: 0.6312 - val_loss: 5.9794 - val_acc: 0.6290\n",
      "Epoch 5/10\n",
      "323432/323432 [==============================] - 16s - loss: 5.9436 - acc: 0.6312 - val_loss: 5.9794 - val_acc: 0.6290\n",
      "Epoch 6/10\n",
      "323432/323432 [==============================] - 16s - loss: 5.9436 - acc: 0.6312 - val_loss: 5.9794 - val_acc: 0.6290\n",
      "Epoch 7/10\n",
      "323432/323432 [==============================] - 16s - loss: 5.9436 - acc: 0.6312 - val_loss: 5.9794 - val_acc: 0.6290\n",
      "Epoch 8/10\n",
      "323432/323432 [==============================] - 16s - loss: 5.9436 - acc: 0.6312 - val_loss: 5.9794 - val_acc: 0.6290\n",
      "Epoch 9/10\n",
      "323432/323432 [==============================] - 16s - loss: 5.9436 - acc: 0.6312 - val_loss: 5.9794 - val_acc: 0.6290\n",
      "Epoch 10/10\n",
      "323432/323432 [==============================] - 16s - loss: 5.9436 - acc: 0.6312 - val_loss: 5.9794 - val_acc: 0.6290\n"
     ]
    },
    {
     "data": {
      "text/plain": [
       "<tf.Tensor 'Assign_114:0' shape=() dtype=float32_ref>"
      ]
     },
     "execution_count": 37,
     "metadata": {},
     "output_type": "execute_result"
    }
   ],
   "source": [
    "#early_stopping =EarlyStopping(monitor='val_loss', patience=3)\n",
    "#bst_model_path = STAMP + '.h5'\n",
    "#model_checkpoint = ModelCheckpoint(bst_model_path, save_best_only=True, save_weights_only=True)\n",
    "# callbacks=[early_stopping, model_checkpoint]\n",
    "# validation_data=([x1_val, x2_val], y_val, weight_val), \\\n",
    "\n",
    "hist = model.fit([x1_train, x2_train], y_train, \\\n",
    "        validation_data=([x1_val, x2_val], y_val), \\\n",
    "        epochs=10, batch_size=2048, shuffle=True)\n",
    "\n",
    "#model.load_weights(bst_model_path)\n",
    "#bst_val_score = min(hist.history['val_loss'])\n",
    "model.optimizer.lr.assign(0.01)"
   ]
  },
  {
   "cell_type": "markdown",
   "metadata": {
    "heading_collapsed": true
   },
   "source": [
    "## Learning Rate Finder"
   ]
  },
  {
   "cell_type": "code",
   "execution_count": 80,
   "metadata": {
    "hidden": true
   },
   "outputs": [
    {
     "name": "stdout",
     "output_type": "stream",
     "text": [
      "Train on 25000 samples, validate on 25000 samples\n",
      "Epoch 1/1\n",
      "25000/25000 [==============================] - 285s - loss: 18.6379 - acc: 0.5463 - val_loss: 235.2400 - val_acc: 0.4986\n"
     ]
    },
    {
     "data": {
      "text/plain": [
       "<keras.callbacks.History at 0x7fd91c619f98>"
      ]
     },
     "execution_count": 80,
     "metadata": {},
     "output_type": "execute_result"
    }
   ],
   "source": [
    "batch_size=64\n",
    "steps_per_epoch = math.ceil(25000/batch_size)\n",
    "cb = LR_Finder(steps_per_epoch, start_lr=1e-7, end_lr=10)\n",
    "model2.fit(trn, y_train, epochs=1, validation_data=(test, y_test), batch_size=batch_size, \n",
    "           callbacks=[cb], verbose=1)"
   ]
  },
  {
   "cell_type": "code",
   "execution_count": 84,
   "metadata": {
    "hidden": true
   },
   "outputs": [
    {
     "data": {
      "image/png": "[encoded data removed]",
      "text/plain": [
       "<matplotlib.figure.Figure at 0x7fd9082385c0>"
      ]
     },
     "metadata": {},
     "output_type": "display_data"
    }
   ],
   "source": [
    "%matplotlib inline\n",
    "plt.plot(cb.history['lr'], cb.losses)\n",
    "plt.ylim((0,2))\n",
    "plt.xscale('log');"
   ]
  },
  {
   "cell_type": "markdown",
   "metadata": {},
   "source": [
    "## Cosine Annealing"
   ]
  },
  {
   "cell_type": "code",
   "execution_count": 38,
   "metadata": {
    "collapsed": true
   },
   "outputs": [],
   "source": [
    "N = 323432\n",
    "batch_size=2048\n",
    "steps_per_epoch = math.ceil(N/batch_size)\n",
    "def fc_cos(model, steps_per_epoch, nc,  cl, lr, tmult=1):\n",
    "    for i in range(nc):\n",
    "        cb = CosAnneal(steps_per_epoch, init_lr=lr)\n",
    "        model.fit([x1_train, x2_train], y_train, \\\n",
    "            validation_data=([x1_val, x2_val], y_val), \\\n",
    "            epochs=10, batch_size=2048, shuffle=True, \\\n",
    "            callbacks=[cb])\n",
    "        cl *= tmult"
   ]
  },
  {
   "cell_type": "code",
   "execution_count": 39,
   "metadata": {},
   "outputs": [
    {
     "name": "stdout",
     "output_type": "stream",
     "text": [
      "Train on 323432 samples, validate on 80858 samples\n",
      "Epoch 1/10\n",
      "323432/323432 [==============================] - 16s - loss: 0.5317 - acc: 0.7383 - val_loss: 0.4968 - val_acc: 0.7600\n",
      "Epoch 2/10\n",
      "323432/323432 [==============================] - 15s - loss: 0.4906 - acc: 0.7668 - val_loss: 0.4777 - val_acc: 0.7712\n",
      "Epoch 3/10\n",
      "323432/323432 [==============================] - 15s - loss: 0.4685 - acc: 0.7784 - val_loss: 0.4884 - val_acc: 0.7657\n",
      "Epoch 4/10\n",
      "323432/323432 [==============================] - 15s - loss: 0.4652 - acc: 0.7798 - val_loss: 0.4916 - val_acc: 0.7648\n",
      "Epoch 5/10\n",
      "323432/323432 [==============================] - 15s - loss: 0.4773 - acc: 0.7728 - val_loss: 0.5057 - val_acc: 0.7576\n",
      "Epoch 6/10\n",
      "323432/323432 [==============================] - 15s - loss: 0.4869 - acc: 0.7648 - val_loss: 0.5161 - val_acc: 0.7547\n",
      "Epoch 7/10\n",
      "323432/323432 [==============================] - 15s - loss: 0.4916 - acc: 0.7618 - val_loss: 0.5151 - val_acc: 0.7509\n",
      "Epoch 8/10\n",
      "323432/323432 [==============================] - 15s - loss: 0.4970 - acc: 0.7586 - val_loss: 0.5141 - val_acc: 0.7528\n",
      "Epoch 9/10\n",
      "323432/323432 [==============================] - 15s - loss: 0.4955 - acc: 0.7589 - val_loss: 0.5162 - val_acc: 0.7508\n",
      "Epoch 10/10\n",
      "323432/323432 [==============================] - 15s - loss: 0.4898 - acc: 0.7631 - val_loss: 0.5143 - val_acc: 0.7523\n",
      "Train on 323432 samples, validate on 80858 samples\n",
      "Epoch 1/10\n",
      "323432/323432 [==============================] - 15s - loss: 0.4946 - acc: 0.7605 - val_loss: 0.5160 - val_acc: 0.7502\n",
      "Epoch 2/10\n",
      "323432/323432 [==============================] - 15s - loss: 0.4931 - acc: 0.7608 - val_loss: 0.5141 - val_acc: 0.7516\n",
      "Epoch 3/10\n",
      "323432/323432 [==============================] - 15s - loss: 0.4917 - acc: 0.7600 - val_loss: 0.5148 - val_acc: 0.7509\n",
      "Epoch 4/10\n",
      "323432/323432 [==============================] - 15s - loss: 0.4940 - acc: 0.7609 - val_loss: 0.5175 - val_acc: 0.7519\n",
      "Epoch 5/10\n",
      "323432/323432 [==============================] - 15s - loss: 0.4956 - acc: 0.7585 - val_loss: 0.5189 - val_acc: 0.7467\n",
      "Epoch 6/10\n",
      "323432/323432 [==============================] - 15s - loss: 0.4965 - acc: 0.7578 - val_loss: 0.5173 - val_acc: 0.7489\n",
      "Epoch 7/10\n",
      "323432/323432 [==============================] - 15s - loss: 0.4958 - acc: 0.7575 - val_loss: 0.5174 - val_acc: 0.7489\n",
      "Epoch 8/10\n",
      "323432/323432 [==============================] - 15s - loss: 0.6056 - acc: 0.7335 - val_loss: 0.5293 - val_acc: 0.7434\n",
      "Epoch 9/10\n",
      "323432/323432 [==============================] - 15s - loss: 0.5104 - acc: 0.7475 - val_loss: 0.5284 - val_acc: 0.7419\n",
      "Epoch 10/10\n",
      "323432/323432 [==============================] - 15s - loss: 0.5098 - acc: 0.7491 - val_loss: 0.5269 - val_acc: 0.7422\n",
      "Train on 323432 samples, validate on 80858 samples\n",
      "Epoch 1/10\n",
      "323432/323432 [==============================] - 16s - loss: 0.5112 - acc: 0.7463 - val_loss: 0.5284 - val_acc: 0.7413\n",
      "Epoch 2/10\n",
      "323432/323432 [==============================] - 16s - loss: 0.5100 - acc: 0.7473 - val_loss: 0.5277 - val_acc: 0.7440\n",
      "Epoch 3/10\n",
      "323432/323432 [==============================] - 16s - loss: 0.5101 - acc: 0.7473 - val_loss: 0.5257 - val_acc: 0.7436\n",
      "Epoch 4/10\n",
      "323432/323432 [==============================] - 16s - loss: 0.5097 - acc: 0.7475 - val_loss: 0.5280 - val_acc: 0.7412\n",
      "Epoch 5/10\n",
      "323432/323432 [==============================] - 16s - loss: 0.5112 - acc: 0.7461 - val_loss: 0.5290 - val_acc: 0.7410\n",
      "Epoch 6/10\n",
      "323432/323432 [==============================] - 16s - loss: 0.5116 - acc: 0.7466 - val_loss: 0.5299 - val_acc: 0.7416\n",
      "Epoch 7/10\n",
      "323432/323432 [==============================] - 16s - loss: 0.5109 - acc: 0.7469 - val_loss: 0.5301 - val_acc: 0.7401\n",
      "Epoch 8/10\n",
      "323432/323432 [==============================] - 16s - loss: 0.5100 - acc: 0.7469 - val_loss: 0.5273 - val_acc: 0.7433.747\n",
      "Epoch 9/10\n",
      "323432/323432 [==============================] - 16s - loss: 0.5098 - acc: 0.7475 - val_loss: 0.5271 - val_acc: 0.7435\n",
      "Epoch 10/10\n",
      "323432/323432 [==============================] - 16s - loss: 0.5094 - acc: 0.7473 - val_loss: 0.5281 - val_acc: 0.7423\n"
     ]
    }
   ],
   "source": [
    "model = get_model()\n",
    "# LSTM is a different beast, It keeps overfitting after lr restarts. \n",
    "fc_cos(model, steps_per_epoch, nc=3, cl=10, lr=0.1)"
   ]
  },
  {
   "cell_type": "markdown",
   "metadata": {},
   "source": [
    "## Random parameter search"
   ]
  },
  {
   "cell_type": "markdown",
   "metadata": {},
   "source": [
    "## References"
   ]
  },
  {
   "cell_type": "markdown",
   "metadata": {},
   "source": [
    "* https://www.kaggle.com/lystdo/lstm-with-word2vec-embeddings"
   ]
  },
  {
   "cell_type": "code",
   "execution_count": null,
   "metadata": {
    "collapsed": true
   },
   "outputs": [],
   "source": []
  }
 ],
 "metadata": {
  "kernelspec": {
   "display_name": "Python 3",
   "language": "python",
   "name": "python3"
  },
  "language_info": {
   "codemirror_mode": {
    "name": "ipython",
    "version": 3
   },
   "file_extension": ".py",
   "mimetype": "text/x-python",
   "name": "python",
   "nbconvert_exporter": "python",
   "pygments_lexer": "ipython3",
   "version": "3.6.2"
  }
 },
 "nbformat": 4,
 "nbformat_minor": 2
}
